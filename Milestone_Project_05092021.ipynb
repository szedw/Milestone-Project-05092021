{
  "nbformat": 4,
  "nbformat_minor": 0,
  "metadata": {
    "colab": {
      "name": "Milestone_Project_05092021.ipynb",
      "provenance": [],
      "collapsed_sections": []
    },
    "kernelspec": {
      "name": "python3",
      "display_name": "Python 3"
    },
    "language_info": {
      "name": "python"
    }
  },
  "cells": [
    {
      "cell_type": "markdown",
      "metadata": {
        "id": "HTGBe-5cdEDC"
      },
      "source": [
        "# Milestone Project"
      ]
    },
    {
      "cell_type": "code",
      "metadata": {
        "id": "_3CmnJbEZtZA"
      },
      "source": [
        "import pandas as pd\n",
        "import numpy as np\n",
        "import seaborn as sns\n",
        "import matplotlib.pyplot as plt\n",
        "from sklearn.preprocessing import LabelEncoder\n",
        "from imblearn.over_sampling import SMOTE"
      ],
      "execution_count": null,
      "outputs": []
    },
    {
      "cell_type": "code",
      "metadata": {
        "id": "j9I-mmdhaK95"
      },
      "source": [
        "df = pd.read_csv('hotel_bookings.csv')"
      ],
      "execution_count": null,
      "outputs": []
    },
    {
      "cell_type": "code",
      "metadata": {
        "id": "cX-b1tX_czpo"
      },
      "source": [
        "df = df.sample(n=50000, random_state=42)"
      ],
      "execution_count": null,
      "outputs": []
    },
    {
      "cell_type": "code",
      "metadata": {
        "colab": {
          "base_uri": "https://localhost:8080/",
          "height": 609
        },
        "id": "FHSno9ixlWjo",
        "outputId": "68790598-b005-4476-fb8d-cb826345cfe1"
      },
      "source": [
        "df.reset_index()"
      ],
      "execution_count": null,
      "outputs": [
        {
          "output_type": "execute_result",
          "data": {
            "text/html": [
              "<div>\n",
              "<style scoped>\n",
              "    .dataframe tbody tr th:only-of-type {\n",
              "        vertical-align: middle;\n",
              "    }\n",
              "\n",
              "    .dataframe tbody tr th {\n",
              "        vertical-align: top;\n",
              "    }\n",
              "\n",
              "    .dataframe thead th {\n",
              "        text-align: right;\n",
              "    }\n",
              "</style>\n",
              "<table border=\"1\" class=\"dataframe\">\n",
              "  <thead>\n",
              "    <tr style=\"text-align: right;\">\n",
              "      <th></th>\n",
              "      <th>index</th>\n",
              "      <th>hotel</th>\n",
              "      <th>is_canceled</th>\n",
              "      <th>lead_time</th>\n",
              "      <th>arrival_date_year</th>\n",
              "      <th>arrival_date_month</th>\n",
              "      <th>arrival_date_week_number</th>\n",
              "      <th>arrival_date_day_of_month</th>\n",
              "      <th>stays_in_weekend_nights</th>\n",
              "      <th>stays_in_week_nights</th>\n",
              "      <th>adults</th>\n",
              "      <th>children</th>\n",
              "      <th>babies</th>\n",
              "      <th>meal</th>\n",
              "      <th>country</th>\n",
              "      <th>market_segment</th>\n",
              "      <th>distribution_channel</th>\n",
              "      <th>is_repeated_guest</th>\n",
              "      <th>previous_cancellations</th>\n",
              "      <th>previous_bookings_not_canceled</th>\n",
              "      <th>reserved_room_type</th>\n",
              "      <th>assigned_room_type</th>\n",
              "      <th>booking_changes</th>\n",
              "      <th>deposit_type</th>\n",
              "      <th>agent</th>\n",
              "      <th>company</th>\n",
              "      <th>days_in_waiting_list</th>\n",
              "      <th>customer_type</th>\n",
              "      <th>adr</th>\n",
              "      <th>required_car_parking_spaces</th>\n",
              "      <th>total_of_special_requests</th>\n",
              "      <th>reservation_status</th>\n",
              "      <th>reservation_status_date</th>\n",
              "    </tr>\n",
              "  </thead>\n",
              "  <tbody>\n",
              "    <tr>\n",
              "      <th>0</th>\n",
              "      <td>30946</td>\n",
              "      <td>Resort Hotel</td>\n",
              "      <td>0</td>\n",
              "      <td>203</td>\n",
              "      <td>2016</td>\n",
              "      <td>December</td>\n",
              "      <td>49</td>\n",
              "      <td>2</td>\n",
              "      <td>2</td>\n",
              "      <td>5</td>\n",
              "      <td>2</td>\n",
              "      <td>0.0</td>\n",
              "      <td>0</td>\n",
              "      <td>BB</td>\n",
              "      <td>GBR</td>\n",
              "      <td>Direct</td>\n",
              "      <td>Direct</td>\n",
              "      <td>0</td>\n",
              "      <td>0</td>\n",
              "      <td>0</td>\n",
              "      <td>F</td>\n",
              "      <td>F</td>\n",
              "      <td>4</td>\n",
              "      <td>No Deposit</td>\n",
              "      <td>250.0</td>\n",
              "      <td>NaN</td>\n",
              "      <td>0</td>\n",
              "      <td>Transient</td>\n",
              "      <td>66.8</td>\n",
              "      <td>0</td>\n",
              "      <td>0</td>\n",
              "      <td>Check-Out</td>\n",
              "      <td>2016-12-09</td>\n",
              "    </tr>\n",
              "    <tr>\n",
              "      <th>1</th>\n",
              "      <td>40207</td>\n",
              "      <td>City Hotel</td>\n",
              "      <td>1</td>\n",
              "      <td>82</td>\n",
              "      <td>2015</td>\n",
              "      <td>July</td>\n",
              "      <td>29</td>\n",
              "      <td>16</td>\n",
              "      <td>0</td>\n",
              "      <td>3</td>\n",
              "      <td>2</td>\n",
              "      <td>0.0</td>\n",
              "      <td>0</td>\n",
              "      <td>BB</td>\n",
              "      <td>PRT</td>\n",
              "      <td>Online TA</td>\n",
              "      <td>TA/TO</td>\n",
              "      <td>0</td>\n",
              "      <td>0</td>\n",
              "      <td>0</td>\n",
              "      <td>A</td>\n",
              "      <td>A</td>\n",
              "      <td>0</td>\n",
              "      <td>No Deposit</td>\n",
              "      <td>9.0</td>\n",
              "      <td>NaN</td>\n",
              "      <td>0</td>\n",
              "      <td>Transient</td>\n",
              "      <td>76.5</td>\n",
              "      <td>0</td>\n",
              "      <td>0</td>\n",
              "      <td>Canceled</td>\n",
              "      <td>2015-07-16</td>\n",
              "    </tr>\n",
              "    <tr>\n",
              "      <th>2</th>\n",
              "      <td>103708</td>\n",
              "      <td>City Hotel</td>\n",
              "      <td>0</td>\n",
              "      <td>25</td>\n",
              "      <td>2016</td>\n",
              "      <td>December</td>\n",
              "      <td>53</td>\n",
              "      <td>27</td>\n",
              "      <td>0</td>\n",
              "      <td>3</td>\n",
              "      <td>3</td>\n",
              "      <td>0.0</td>\n",
              "      <td>0</td>\n",
              "      <td>BB</td>\n",
              "      <td>BRA</td>\n",
              "      <td>Offline TA/TO</td>\n",
              "      <td>TA/TO</td>\n",
              "      <td>0</td>\n",
              "      <td>0</td>\n",
              "      <td>0</td>\n",
              "      <td>A</td>\n",
              "      <td>K</td>\n",
              "      <td>2</td>\n",
              "      <td>No Deposit</td>\n",
              "      <td>220.0</td>\n",
              "      <td>NaN</td>\n",
              "      <td>0</td>\n",
              "      <td>Transient-Party</td>\n",
              "      <td>60.0</td>\n",
              "      <td>0</td>\n",
              "      <td>1</td>\n",
              "      <td>Check-Out</td>\n",
              "      <td>2016-12-30</td>\n",
              "    </tr>\n",
              "    <tr>\n",
              "      <th>3</th>\n",
              "      <td>85144</td>\n",
              "      <td>City Hotel</td>\n",
              "      <td>0</td>\n",
              "      <td>1</td>\n",
              "      <td>2016</td>\n",
              "      <td>March</td>\n",
              "      <td>11</td>\n",
              "      <td>9</td>\n",
              "      <td>0</td>\n",
              "      <td>1</td>\n",
              "      <td>1</td>\n",
              "      <td>0.0</td>\n",
              "      <td>0</td>\n",
              "      <td>BB</td>\n",
              "      <td>SWE</td>\n",
              "      <td>Online TA</td>\n",
              "      <td>TA/TO</td>\n",
              "      <td>0</td>\n",
              "      <td>0</td>\n",
              "      <td>0</td>\n",
              "      <td>A</td>\n",
              "      <td>A</td>\n",
              "      <td>0</td>\n",
              "      <td>No Deposit</td>\n",
              "      <td>9.0</td>\n",
              "      <td>NaN</td>\n",
              "      <td>0</td>\n",
              "      <td>Transient-Party</td>\n",
              "      <td>95.0</td>\n",
              "      <td>0</td>\n",
              "      <td>0</td>\n",
              "      <td>Check-Out</td>\n",
              "      <td>2016-03-10</td>\n",
              "    </tr>\n",
              "    <tr>\n",
              "      <th>4</th>\n",
              "      <td>109991</td>\n",
              "      <td>City Hotel</td>\n",
              "      <td>0</td>\n",
              "      <td>70</td>\n",
              "      <td>2017</td>\n",
              "      <td>April</td>\n",
              "      <td>16</td>\n",
              "      <td>16</td>\n",
              "      <td>2</td>\n",
              "      <td>2</td>\n",
              "      <td>2</td>\n",
              "      <td>0.0</td>\n",
              "      <td>0</td>\n",
              "      <td>SC</td>\n",
              "      <td>GBR</td>\n",
              "      <td>Online TA</td>\n",
              "      <td>TA/TO</td>\n",
              "      <td>0</td>\n",
              "      <td>0</td>\n",
              "      <td>0</td>\n",
              "      <td>A</td>\n",
              "      <td>A</td>\n",
              "      <td>0</td>\n",
              "      <td>No Deposit</td>\n",
              "      <td>9.0</td>\n",
              "      <td>NaN</td>\n",
              "      <td>0</td>\n",
              "      <td>Transient</td>\n",
              "      <td>108.0</td>\n",
              "      <td>0</td>\n",
              "      <td>0</td>\n",
              "      <td>Check-Out</td>\n",
              "      <td>2017-04-20</td>\n",
              "    </tr>\n",
              "    <tr>\n",
              "      <th>...</th>\n",
              "      <td>...</td>\n",
              "      <td>...</td>\n",
              "      <td>...</td>\n",
              "      <td>...</td>\n",
              "      <td>...</td>\n",
              "      <td>...</td>\n",
              "      <td>...</td>\n",
              "      <td>...</td>\n",
              "      <td>...</td>\n",
              "      <td>...</td>\n",
              "      <td>...</td>\n",
              "      <td>...</td>\n",
              "      <td>...</td>\n",
              "      <td>...</td>\n",
              "      <td>...</td>\n",
              "      <td>...</td>\n",
              "      <td>...</td>\n",
              "      <td>...</td>\n",
              "      <td>...</td>\n",
              "      <td>...</td>\n",
              "      <td>...</td>\n",
              "      <td>...</td>\n",
              "      <td>...</td>\n",
              "      <td>...</td>\n",
              "      <td>...</td>\n",
              "      <td>...</td>\n",
              "      <td>...</td>\n",
              "      <td>...</td>\n",
              "      <td>...</td>\n",
              "      <td>...</td>\n",
              "      <td>...</td>\n",
              "      <td>...</td>\n",
              "      <td>...</td>\n",
              "    </tr>\n",
              "    <tr>\n",
              "      <th>49995</th>\n",
              "      <td>82520</td>\n",
              "      <td>City Hotel</td>\n",
              "      <td>0</td>\n",
              "      <td>98</td>\n",
              "      <td>2015</td>\n",
              "      <td>December</td>\n",
              "      <td>53</td>\n",
              "      <td>29</td>\n",
              "      <td>0</td>\n",
              "      <td>3</td>\n",
              "      <td>2</td>\n",
              "      <td>0.0</td>\n",
              "      <td>0</td>\n",
              "      <td>BB</td>\n",
              "      <td>ITA</td>\n",
              "      <td>Offline TA/TO</td>\n",
              "      <td>TA/TO</td>\n",
              "      <td>0</td>\n",
              "      <td>0</td>\n",
              "      <td>0</td>\n",
              "      <td>A</td>\n",
              "      <td>A</td>\n",
              "      <td>0</td>\n",
              "      <td>No Deposit</td>\n",
              "      <td>83.0</td>\n",
              "      <td>NaN</td>\n",
              "      <td>0</td>\n",
              "      <td>Transient-Party</td>\n",
              "      <td>59.5</td>\n",
              "      <td>0</td>\n",
              "      <td>2</td>\n",
              "      <td>Check-Out</td>\n",
              "      <td>2016-01-01</td>\n",
              "    </tr>\n",
              "    <tr>\n",
              "      <th>49996</th>\n",
              "      <td>80860</td>\n",
              "      <td>City Hotel</td>\n",
              "      <td>1</td>\n",
              "      <td>0</td>\n",
              "      <td>2017</td>\n",
              "      <td>February</td>\n",
              "      <td>8</td>\n",
              "      <td>21</td>\n",
              "      <td>0</td>\n",
              "      <td>1</td>\n",
              "      <td>1</td>\n",
              "      <td>0.0</td>\n",
              "      <td>0</td>\n",
              "      <td>BB</td>\n",
              "      <td>PRT</td>\n",
              "      <td>Corporate</td>\n",
              "      <td>Corporate</td>\n",
              "      <td>1</td>\n",
              "      <td>0</td>\n",
              "      <td>7</td>\n",
              "      <td>A</td>\n",
              "      <td>A</td>\n",
              "      <td>0</td>\n",
              "      <td>No Deposit</td>\n",
              "      <td>NaN</td>\n",
              "      <td>148.0</td>\n",
              "      <td>0</td>\n",
              "      <td>Transient</td>\n",
              "      <td>80.0</td>\n",
              "      <td>0</td>\n",
              "      <td>0</td>\n",
              "      <td>Canceled</td>\n",
              "      <td>2017-02-21</td>\n",
              "    </tr>\n",
              "    <tr>\n",
              "      <th>49997</th>\n",
              "      <td>77053</td>\n",
              "      <td>City Hotel</td>\n",
              "      <td>1</td>\n",
              "      <td>262</td>\n",
              "      <td>2015</td>\n",
              "      <td>November</td>\n",
              "      <td>46</td>\n",
              "      <td>9</td>\n",
              "      <td>1</td>\n",
              "      <td>2</td>\n",
              "      <td>2</td>\n",
              "      <td>0.0</td>\n",
              "      <td>0</td>\n",
              "      <td>BB</td>\n",
              "      <td>PRT</td>\n",
              "      <td>Groups</td>\n",
              "      <td>TA/TO</td>\n",
              "      <td>0</td>\n",
              "      <td>1</td>\n",
              "      <td>0</td>\n",
              "      <td>A</td>\n",
              "      <td>A</td>\n",
              "      <td>0</td>\n",
              "      <td>Non Refund</td>\n",
              "      <td>1.0</td>\n",
              "      <td>NaN</td>\n",
              "      <td>0</td>\n",
              "      <td>Transient</td>\n",
              "      <td>62.8</td>\n",
              "      <td>0</td>\n",
              "      <td>0</td>\n",
              "      <td>Canceled</td>\n",
              "      <td>2015-09-04</td>\n",
              "    </tr>\n",
              "    <tr>\n",
              "      <th>49998</th>\n",
              "      <td>72281</td>\n",
              "      <td>City Hotel</td>\n",
              "      <td>1</td>\n",
              "      <td>20</td>\n",
              "      <td>2017</td>\n",
              "      <td>July</td>\n",
              "      <td>30</td>\n",
              "      <td>25</td>\n",
              "      <td>0</td>\n",
              "      <td>2</td>\n",
              "      <td>2</td>\n",
              "      <td>0.0</td>\n",
              "      <td>0</td>\n",
              "      <td>BB</td>\n",
              "      <td>PRT</td>\n",
              "      <td>Direct</td>\n",
              "      <td>Direct</td>\n",
              "      <td>0</td>\n",
              "      <td>0</td>\n",
              "      <td>0</td>\n",
              "      <td>A</td>\n",
              "      <td>A</td>\n",
              "      <td>0</td>\n",
              "      <td>No Deposit</td>\n",
              "      <td>NaN</td>\n",
              "      <td>NaN</td>\n",
              "      <td>0</td>\n",
              "      <td>Transient</td>\n",
              "      <td>140.0</td>\n",
              "      <td>0</td>\n",
              "      <td>0</td>\n",
              "      <td>Canceled</td>\n",
              "      <td>2017-07-06</td>\n",
              "    </tr>\n",
              "    <tr>\n",
              "      <th>49999</th>\n",
              "      <td>45898</td>\n",
              "      <td>City Hotel</td>\n",
              "      <td>0</td>\n",
              "      <td>84</td>\n",
              "      <td>2015</td>\n",
              "      <td>November</td>\n",
              "      <td>48</td>\n",
              "      <td>27</td>\n",
              "      <td>1</td>\n",
              "      <td>2</td>\n",
              "      <td>2</td>\n",
              "      <td>0.0</td>\n",
              "      <td>0</td>\n",
              "      <td>BB</td>\n",
              "      <td>PRT</td>\n",
              "      <td>Groups</td>\n",
              "      <td>TA/TO</td>\n",
              "      <td>0</td>\n",
              "      <td>0</td>\n",
              "      <td>0</td>\n",
              "      <td>A</td>\n",
              "      <td>A</td>\n",
              "      <td>0</td>\n",
              "      <td>No Deposit</td>\n",
              "      <td>1.0</td>\n",
              "      <td>NaN</td>\n",
              "      <td>0</td>\n",
              "      <td>Transient-Party</td>\n",
              "      <td>64.0</td>\n",
              "      <td>0</td>\n",
              "      <td>0</td>\n",
              "      <td>Check-Out</td>\n",
              "      <td>2015-11-30</td>\n",
              "    </tr>\n",
              "  </tbody>\n",
              "</table>\n",
              "<p>50000 rows × 33 columns</p>\n",
              "</div>"
            ],
            "text/plain": [
              "        index         hotel  ...  reservation_status  reservation_status_date\n",
              "0       30946  Resort Hotel  ...           Check-Out               2016-12-09\n",
              "1       40207    City Hotel  ...            Canceled               2015-07-16\n",
              "2      103708    City Hotel  ...           Check-Out               2016-12-30\n",
              "3       85144    City Hotel  ...           Check-Out               2016-03-10\n",
              "4      109991    City Hotel  ...           Check-Out               2017-04-20\n",
              "...       ...           ...  ...                 ...                      ...\n",
              "49995   82520    City Hotel  ...           Check-Out               2016-01-01\n",
              "49996   80860    City Hotel  ...            Canceled               2017-02-21\n",
              "49997   77053    City Hotel  ...            Canceled               2015-09-04\n",
              "49998   72281    City Hotel  ...            Canceled               2017-07-06\n",
              "49999   45898    City Hotel  ...           Check-Out               2015-11-30\n",
              "\n",
              "[50000 rows x 33 columns]"
            ]
          },
          "metadata": {},
          "execution_count": 313
        }
      ]
    },
    {
      "cell_type": "code",
      "metadata": {
        "colab": {
          "base_uri": "https://localhost:8080/"
        },
        "id": "EU1agtQlJ7kc",
        "outputId": "1454f65f-12f3-4063-f8cc-9fef184f780a"
      },
      "source": [
        "df.info()"
      ],
      "execution_count": null,
      "outputs": [
        {
          "output_type": "stream",
          "name": "stdout",
          "text": [
            "<class 'pandas.core.frame.DataFrame'>\n",
            "Int64Index: 50000 entries, 30946 to 45898\n",
            "Data columns (total 32 columns):\n",
            " #   Column                          Non-Null Count  Dtype  \n",
            "---  ------                          --------------  -----  \n",
            " 0   hotel                           50000 non-null  object \n",
            " 1   is_canceled                     50000 non-null  int64  \n",
            " 2   lead_time                       50000 non-null  int64  \n",
            " 3   arrival_date_year               50000 non-null  int64  \n",
            " 4   arrival_date_month              50000 non-null  object \n",
            " 5   arrival_date_week_number        50000 non-null  int64  \n",
            " 6   arrival_date_day_of_month       50000 non-null  int64  \n",
            " 7   stays_in_weekend_nights         50000 non-null  int64  \n",
            " 8   stays_in_week_nights            50000 non-null  int64  \n",
            " 9   adults                          50000 non-null  int64  \n",
            " 10  children                        50000 non-null  float64\n",
            " 11  babies                          50000 non-null  int64  \n",
            " 12  meal                            50000 non-null  object \n",
            " 13  country                         49791 non-null  object \n",
            " 14  market_segment                  50000 non-null  object \n",
            " 15  distribution_channel            50000 non-null  object \n",
            " 16  is_repeated_guest               50000 non-null  int64  \n",
            " 17  previous_cancellations          50000 non-null  int64  \n",
            " 18  previous_bookings_not_canceled  50000 non-null  int64  \n",
            " 19  reserved_room_type              50000 non-null  object \n",
            " 20  assigned_room_type              50000 non-null  object \n",
            " 21  booking_changes                 50000 non-null  int64  \n",
            " 22  deposit_type                    50000 non-null  object \n",
            " 23  agent                           43158 non-null  float64\n",
            " 24  company                         2845 non-null   float64\n",
            " 25  days_in_waiting_list            50000 non-null  int64  \n",
            " 26  customer_type                   50000 non-null  object \n",
            " 27  adr                             50000 non-null  float64\n",
            " 28  required_car_parking_spaces     50000 non-null  int64  \n",
            " 29  total_of_special_requests       50000 non-null  int64  \n",
            " 30  reservation_status              50000 non-null  object \n",
            " 31  reservation_status_date         50000 non-null  object \n",
            "dtypes: float64(4), int64(16), object(12)\n",
            "memory usage: 12.6+ MB\n"
          ]
        }
      ]
    },
    {
      "cell_type": "code",
      "metadata": {
        "colab": {
          "base_uri": "https://localhost:8080/"
        },
        "id": "fzWahNgtFfk5",
        "outputId": "14d65a5c-4433-4500-b831-23b10ebd9e7a"
      },
      "source": [
        "df.shape"
      ],
      "execution_count": null,
      "outputs": [
        {
          "output_type": "execute_result",
          "data": {
            "text/plain": [
              "(50000, 32)"
            ]
          },
          "metadata": {},
          "execution_count": 315
        }
      ]
    },
    {
      "cell_type": "markdown",
      "metadata": {
        "id": "EhMdO86Ba7WD"
      },
      "source": [
        "# EDA"
      ]
    },
    {
      "cell_type": "markdown",
      "metadata": {
        "id": "Pdkv8zpMa9SB"
      },
      "source": [
        "### A. Tipe - Tipe Data"
      ]
    },
    {
      "cell_type": "code",
      "metadata": {
        "colab": {
          "base_uri": "https://localhost:8080/"
        },
        "id": "finpyYqua6-J",
        "outputId": "431690b7-d2ce-4fb9-ac6d-87bf07570b85"
      },
      "source": [
        "df.dtypes"
      ],
      "execution_count": null,
      "outputs": [
        {
          "output_type": "execute_result",
          "data": {
            "text/plain": [
              "hotel                              object\n",
              "is_canceled                         int64\n",
              "lead_time                           int64\n",
              "arrival_date_year                   int64\n",
              "arrival_date_month                 object\n",
              "arrival_date_week_number            int64\n",
              "arrival_date_day_of_month           int64\n",
              "stays_in_weekend_nights             int64\n",
              "stays_in_week_nights                int64\n",
              "adults                              int64\n",
              "children                          float64\n",
              "babies                              int64\n",
              "meal                               object\n",
              "country                            object\n",
              "market_segment                     object\n",
              "distribution_channel               object\n",
              "is_repeated_guest                   int64\n",
              "previous_cancellations              int64\n",
              "previous_bookings_not_canceled      int64\n",
              "reserved_room_type                 object\n",
              "assigned_room_type                 object\n",
              "booking_changes                     int64\n",
              "deposit_type                       object\n",
              "agent                             float64\n",
              "company                           float64\n",
              "days_in_waiting_list                int64\n",
              "customer_type                      object\n",
              "adr                               float64\n",
              "required_car_parking_spaces         int64\n",
              "total_of_special_requests           int64\n",
              "reservation_status                 object\n",
              "reservation_status_date            object\n",
              "dtype: object"
            ]
          },
          "metadata": {},
          "execution_count": 316
        }
      ]
    },
    {
      "cell_type": "markdown",
      "metadata": {
        "id": "BI2gV9jliXqz"
      },
      "source": [
        "### B. Describe feature data dan beberapa distribusi data."
      ]
    },
    {
      "cell_type": "code",
      "metadata": {
        "colab": {
          "base_uri": "https://localhost:8080/",
          "height": 317
        },
        "id": "FZIg-_EBqpA8",
        "outputId": "9e4bc1f7-b142-4ae1-cfa2-221151df9bf0"
      },
      "source": [
        "df.describe()"
      ],
      "execution_count": null,
      "outputs": [
        {
          "output_type": "execute_result",
          "data": {
            "text/html": [
              "<div>\n",
              "<style scoped>\n",
              "    .dataframe tbody tr th:only-of-type {\n",
              "        vertical-align: middle;\n",
              "    }\n",
              "\n",
              "    .dataframe tbody tr th {\n",
              "        vertical-align: top;\n",
              "    }\n",
              "\n",
              "    .dataframe thead th {\n",
              "        text-align: right;\n",
              "    }\n",
              "</style>\n",
              "<table border=\"1\" class=\"dataframe\">\n",
              "  <thead>\n",
              "    <tr style=\"text-align: right;\">\n",
              "      <th></th>\n",
              "      <th>is_canceled</th>\n",
              "      <th>lead_time</th>\n",
              "      <th>arrival_date_year</th>\n",
              "      <th>arrival_date_week_number</th>\n",
              "      <th>arrival_date_day_of_month</th>\n",
              "      <th>stays_in_weekend_nights</th>\n",
              "      <th>stays_in_week_nights</th>\n",
              "      <th>adults</th>\n",
              "      <th>children</th>\n",
              "      <th>babies</th>\n",
              "      <th>is_repeated_guest</th>\n",
              "      <th>previous_cancellations</th>\n",
              "      <th>previous_bookings_not_canceled</th>\n",
              "      <th>booking_changes</th>\n",
              "      <th>agent</th>\n",
              "      <th>company</th>\n",
              "      <th>days_in_waiting_list</th>\n",
              "      <th>adr</th>\n",
              "      <th>required_car_parking_spaces</th>\n",
              "      <th>total_of_special_requests</th>\n",
              "    </tr>\n",
              "  </thead>\n",
              "  <tbody>\n",
              "    <tr>\n",
              "      <th>count</th>\n",
              "      <td>50000.000000</td>\n",
              "      <td>50000.000000</td>\n",
              "      <td>50000.000000</td>\n",
              "      <td>50000.000000</td>\n",
              "      <td>50000.000000</td>\n",
              "      <td>50000.000000</td>\n",
              "      <td>50000.000000</td>\n",
              "      <td>50000.000000</td>\n",
              "      <td>50000.000000</td>\n",
              "      <td>50000.000000</td>\n",
              "      <td>50000.000000</td>\n",
              "      <td>50000.000000</td>\n",
              "      <td>50000.000000</td>\n",
              "      <td>50000.000000</td>\n",
              "      <td>43158.000000</td>\n",
              "      <td>2845.000000</td>\n",
              "      <td>50000.00000</td>\n",
              "      <td>50000.000000</td>\n",
              "      <td>50000.000000</td>\n",
              "      <td>50000.000000</td>\n",
              "    </tr>\n",
              "    <tr>\n",
              "      <th>mean</th>\n",
              "      <td>0.371600</td>\n",
              "      <td>104.030080</td>\n",
              "      <td>2016.157220</td>\n",
              "      <td>27.156940</td>\n",
              "      <td>15.802880</td>\n",
              "      <td>0.923300</td>\n",
              "      <td>2.491960</td>\n",
              "      <td>1.857600</td>\n",
              "      <td>0.102120</td>\n",
              "      <td>0.007960</td>\n",
              "      <td>0.031660</td>\n",
              "      <td>0.085060</td>\n",
              "      <td>0.137620</td>\n",
              "      <td>0.221220</td>\n",
              "      <td>86.665091</td>\n",
              "      <td>188.391564</td>\n",
              "      <td>2.26486</td>\n",
              "      <td>101.955308</td>\n",
              "      <td>0.061460</td>\n",
              "      <td>0.573240</td>\n",
              "    </tr>\n",
              "    <tr>\n",
              "      <th>std</th>\n",
              "      <td>0.483237</td>\n",
              "      <td>106.953591</td>\n",
              "      <td>0.708288</td>\n",
              "      <td>13.592113</td>\n",
              "      <td>8.754873</td>\n",
              "      <td>0.992168</td>\n",
              "      <td>1.896082</td>\n",
              "      <td>0.550898</td>\n",
              "      <td>0.396856</td>\n",
              "      <td>0.098065</td>\n",
              "      <td>0.175095</td>\n",
              "      <td>0.805951</td>\n",
              "      <td>1.494191</td>\n",
              "      <td>0.645205</td>\n",
              "      <td>110.807878</td>\n",
              "      <td>131.573433</td>\n",
              "      <td>17.43284</td>\n",
              "      <td>48.091588</td>\n",
              "      <td>0.241669</td>\n",
              "      <td>0.794083</td>\n",
              "    </tr>\n",
              "    <tr>\n",
              "      <th>min</th>\n",
              "      <td>0.000000</td>\n",
              "      <td>0.000000</td>\n",
              "      <td>2015.000000</td>\n",
              "      <td>1.000000</td>\n",
              "      <td>1.000000</td>\n",
              "      <td>0.000000</td>\n",
              "      <td>0.000000</td>\n",
              "      <td>0.000000</td>\n",
              "      <td>0.000000</td>\n",
              "      <td>0.000000</td>\n",
              "      <td>0.000000</td>\n",
              "      <td>0.000000</td>\n",
              "      <td>0.000000</td>\n",
              "      <td>0.000000</td>\n",
              "      <td>1.000000</td>\n",
              "      <td>8.000000</td>\n",
              "      <td>0.00000</td>\n",
              "      <td>-6.380000</td>\n",
              "      <td>0.000000</td>\n",
              "      <td>0.000000</td>\n",
              "    </tr>\n",
              "    <tr>\n",
              "      <th>25%</th>\n",
              "      <td>0.000000</td>\n",
              "      <td>18.000000</td>\n",
              "      <td>2016.000000</td>\n",
              "      <td>16.000000</td>\n",
              "      <td>8.000000</td>\n",
              "      <td>0.000000</td>\n",
              "      <td>1.000000</td>\n",
              "      <td>2.000000</td>\n",
              "      <td>0.000000</td>\n",
              "      <td>0.000000</td>\n",
              "      <td>0.000000</td>\n",
              "      <td>0.000000</td>\n",
              "      <td>0.000000</td>\n",
              "      <td>0.000000</td>\n",
              "      <td>9.000000</td>\n",
              "      <td>62.000000</td>\n",
              "      <td>0.00000</td>\n",
              "      <td>69.182500</td>\n",
              "      <td>0.000000</td>\n",
              "      <td>0.000000</td>\n",
              "    </tr>\n",
              "    <tr>\n",
              "      <th>50%</th>\n",
              "      <td>0.000000</td>\n",
              "      <td>69.000000</td>\n",
              "      <td>2016.000000</td>\n",
              "      <td>28.000000</td>\n",
              "      <td>16.000000</td>\n",
              "      <td>1.000000</td>\n",
              "      <td>2.000000</td>\n",
              "      <td>2.000000</td>\n",
              "      <td>0.000000</td>\n",
              "      <td>0.000000</td>\n",
              "      <td>0.000000</td>\n",
              "      <td>0.000000</td>\n",
              "      <td>0.000000</td>\n",
              "      <td>0.000000</td>\n",
              "      <td>14.000000</td>\n",
              "      <td>174.000000</td>\n",
              "      <td>0.00000</td>\n",
              "      <td>95.000000</td>\n",
              "      <td>0.000000</td>\n",
              "      <td>0.000000</td>\n",
              "    </tr>\n",
              "    <tr>\n",
              "      <th>75%</th>\n",
              "      <td>1.000000</td>\n",
              "      <td>161.000000</td>\n",
              "      <td>2017.000000</td>\n",
              "      <td>38.000000</td>\n",
              "      <td>23.000000</td>\n",
              "      <td>2.000000</td>\n",
              "      <td>3.000000</td>\n",
              "      <td>2.000000</td>\n",
              "      <td>0.000000</td>\n",
              "      <td>0.000000</td>\n",
              "      <td>0.000000</td>\n",
              "      <td>0.000000</td>\n",
              "      <td>0.000000</td>\n",
              "      <td>0.000000</td>\n",
              "      <td>229.000000</td>\n",
              "      <td>270.000000</td>\n",
              "      <td>0.00000</td>\n",
              "      <td>126.000000</td>\n",
              "      <td>0.000000</td>\n",
              "      <td>1.000000</td>\n",
              "    </tr>\n",
              "    <tr>\n",
              "      <th>max</th>\n",
              "      <td>1.000000</td>\n",
              "      <td>737.000000</td>\n",
              "      <td>2017.000000</td>\n",
              "      <td>53.000000</td>\n",
              "      <td>31.000000</td>\n",
              "      <td>19.000000</td>\n",
              "      <td>50.000000</td>\n",
              "      <td>55.000000</td>\n",
              "      <td>10.000000</td>\n",
              "      <td>9.000000</td>\n",
              "      <td>1.000000</td>\n",
              "      <td>26.000000</td>\n",
              "      <td>72.000000</td>\n",
              "      <td>18.000000</td>\n",
              "      <td>531.000000</td>\n",
              "      <td>541.000000</td>\n",
              "      <td>391.00000</td>\n",
              "      <td>508.000000</td>\n",
              "      <td>3.000000</td>\n",
              "      <td>5.000000</td>\n",
              "    </tr>\n",
              "  </tbody>\n",
              "</table>\n",
              "</div>"
            ],
            "text/plain": [
              "        is_canceled  ...  total_of_special_requests\n",
              "count  50000.000000  ...               50000.000000\n",
              "mean       0.371600  ...                   0.573240\n",
              "std        0.483237  ...                   0.794083\n",
              "min        0.000000  ...                   0.000000\n",
              "25%        0.000000  ...                   0.000000\n",
              "50%        0.000000  ...                   0.000000\n",
              "75%        1.000000  ...                   1.000000\n",
              "max        1.000000  ...                   5.000000\n",
              "\n",
              "[8 rows x 20 columns]"
            ]
          },
          "metadata": {},
          "execution_count": 317
        }
      ]
    },
    {
      "cell_type": "code",
      "metadata": {
        "colab": {
          "base_uri": "https://localhost:8080/",
          "height": 210
        },
        "id": "Q-cTL0rYbElY",
        "outputId": "ed593bcc-a6f3-4370-9cb2-f20bd6b0c581"
      },
      "source": [
        "df.describe(exclude='number')"
      ],
      "execution_count": null,
      "outputs": [
        {
          "output_type": "execute_result",
          "data": {
            "text/html": [
              "<div>\n",
              "<style scoped>\n",
              "    .dataframe tbody tr th:only-of-type {\n",
              "        vertical-align: middle;\n",
              "    }\n",
              "\n",
              "    .dataframe tbody tr th {\n",
              "        vertical-align: top;\n",
              "    }\n",
              "\n",
              "    .dataframe thead th {\n",
              "        text-align: right;\n",
              "    }\n",
              "</style>\n",
              "<table border=\"1\" class=\"dataframe\">\n",
              "  <thead>\n",
              "    <tr style=\"text-align: right;\">\n",
              "      <th></th>\n",
              "      <th>hotel</th>\n",
              "      <th>arrival_date_month</th>\n",
              "      <th>meal</th>\n",
              "      <th>country</th>\n",
              "      <th>market_segment</th>\n",
              "      <th>distribution_channel</th>\n",
              "      <th>reserved_room_type</th>\n",
              "      <th>assigned_room_type</th>\n",
              "      <th>deposit_type</th>\n",
              "      <th>customer_type</th>\n",
              "      <th>reservation_status</th>\n",
              "      <th>reservation_status_date</th>\n",
              "    </tr>\n",
              "  </thead>\n",
              "  <tbody>\n",
              "    <tr>\n",
              "      <th>count</th>\n",
              "      <td>50000</td>\n",
              "      <td>50000</td>\n",
              "      <td>50000</td>\n",
              "      <td>49791</td>\n",
              "      <td>50000</td>\n",
              "      <td>50000</td>\n",
              "      <td>50000</td>\n",
              "      <td>50000</td>\n",
              "      <td>50000</td>\n",
              "      <td>50000</td>\n",
              "      <td>50000</td>\n",
              "      <td>50000</td>\n",
              "    </tr>\n",
              "    <tr>\n",
              "      <th>unique</th>\n",
              "      <td>2</td>\n",
              "      <td>12</td>\n",
              "      <td>5</td>\n",
              "      <td>150</td>\n",
              "      <td>7</td>\n",
              "      <td>5</td>\n",
              "      <td>10</td>\n",
              "      <td>12</td>\n",
              "      <td>3</td>\n",
              "      <td>4</td>\n",
              "      <td>3</td>\n",
              "      <td>900</td>\n",
              "    </tr>\n",
              "    <tr>\n",
              "      <th>top</th>\n",
              "      <td>City Hotel</td>\n",
              "      <td>August</td>\n",
              "      <td>BB</td>\n",
              "      <td>PRT</td>\n",
              "      <td>Online TA</td>\n",
              "      <td>TA/TO</td>\n",
              "      <td>A</td>\n",
              "      <td>A</td>\n",
              "      <td>No Deposit</td>\n",
              "      <td>Transient</td>\n",
              "      <td>Check-Out</td>\n",
              "      <td>2015-10-21</td>\n",
              "    </tr>\n",
              "    <tr>\n",
              "      <th>freq</th>\n",
              "      <td>33247</td>\n",
              "      <td>5830</td>\n",
              "      <td>38648</td>\n",
              "      <td>20348</td>\n",
              "      <td>23486</td>\n",
              "      <td>40916</td>\n",
              "      <td>36035</td>\n",
              "      <td>31006</td>\n",
              "      <td>43771</td>\n",
              "      <td>37515</td>\n",
              "      <td>31420</td>\n",
              "      <td>644</td>\n",
              "    </tr>\n",
              "  </tbody>\n",
              "</table>\n",
              "</div>"
            ],
            "text/plain": [
              "             hotel  ... reservation_status_date\n",
              "count        50000  ...                   50000\n",
              "unique           2  ...                     900\n",
              "top     City Hotel  ...              2015-10-21\n",
              "freq         33247  ...                     644\n",
              "\n",
              "[4 rows x 12 columns]"
            ]
          },
          "metadata": {},
          "execution_count": 318
        }
      ]
    },
    {
      "cell_type": "code",
      "metadata": {
        "colab": {
          "base_uri": "https://localhost:8080/",
          "height": 298
        },
        "id": "B30e3rykH8Jd",
        "outputId": "d5a8bf0b-b98d-4937-fdaf-c691a621ae66"
      },
      "source": [
        "sns.countplot(data=df, x='hotel', hue='is_canceled')"
      ],
      "execution_count": null,
      "outputs": [
        {
          "output_type": "execute_result",
          "data": {
            "text/plain": [
              "<matplotlib.axes._subplots.AxesSubplot at 0x7fbb2a96b390>"
            ]
          },
          "metadata": {},
          "execution_count": 319
        },
        {
          "output_type": "display_data",
          "data": {
            "image/png": "[encoded data removed]",
            "text/plain": [
              "<Figure size 432x288 with 1 Axes>"
            ]
          },
          "metadata": {
            "needs_background": "light"
          }
        }
      ]
    },
    {
      "cell_type": "code",
      "metadata": {
        "colab": {
          "base_uri": "https://localhost:8080/",
          "height": 430
        },
        "id": "jU75euAEIhMV",
        "outputId": "87cafb57-c62e-4e07-ac4f-f84b479fd01a"
      },
      "source": [
        "bulan = sns.catplot(data=df, x='arrival_date_month', hue='is_canceled', kind='count')\n",
        "bulan.set_xticklabels(rotation=65, horizontalalignment='right')"
      ],
      "execution_count": null,
      "outputs": [
        {
          "output_type": "execute_result",
          "data": {
            "text/plain": [
              "<seaborn.axisgrid.FacetGrid at 0x7fbb2aaa4850>"
            ]
          },
          "metadata": {},
          "execution_count": 320
        },
        {
          "output_type": "display_data",
          "data": {
            "image/png": "[encoded data removed]",
            "text/plain": [
              "<Figure size 426.125x360 with 1 Axes>"
            ]
          },
          "metadata": {
            "needs_background": "light"
          }
        }
      ]
    },
    {
      "cell_type": "code",
      "metadata": {
        "colab": {
          "base_uri": "https://localhost:8080/",
          "height": 297
        },
        "id": "8l-huzO0FibQ",
        "outputId": "e0ef7e06-7b34-4511-c1f3-666a9120f778"
      },
      "source": [
        "sns.countplot(data=df, x='arrival_date_year', hue='is_canceled')"
      ],
      "execution_count": null,
      "outputs": [
        {
          "output_type": "execute_result",
          "data": {
            "text/plain": [
              "<matplotlib.axes._subplots.AxesSubplot at 0x7fbb2a824d90>"
            ]
          },
          "metadata": {},
          "execution_count": 321
        },
        {
          "output_type": "display_data",
          "data": {
            "image/png": "[encoded data removed]",
            "text/plain": [
              "<Figure size 432x288 with 1 Axes>"
            ]
          },
          "metadata": {
            "needs_background": "light"
          }
        }
      ]
    },
    {
      "cell_type": "code",
      "metadata": {
        "colab": {
          "base_uri": "https://localhost:8080/",
          "height": 297
        },
        "id": "K1pxMzXcIWUm",
        "outputId": "5712db4a-9085-4880-be2e-0b721b8625f5"
      },
      "source": [
        "sns.countplot(data=df, x='reservation_status', hue='is_canceled')"
      ],
      "execution_count": null,
      "outputs": [
        {
          "output_type": "execute_result",
          "data": {
            "text/plain": [
              "<matplotlib.axes._subplots.AxesSubplot at 0x7fbb2a796950>"
            ]
          },
          "metadata": {},
          "execution_count": 322
        },
        {
          "output_type": "display_data",
          "data": {
            "image/png": "[encoded data removed]",
            "text/plain": [
              "<Figure size 432x288 with 1 Axes>"
            ]
          },
          "metadata": {
            "needs_background": "light"
          }
        }
      ]
    },
    {
      "cell_type": "markdown",
      "metadata": {
        "id": "I8PoKywxocRw"
      },
      "source": [
        "### C. Tamu berasal dari mana?"
      ]
    },
    {
      "cell_type": "code",
      "metadata": {
        "colab": {
          "base_uri": "https://localhost:8080/"
        },
        "id": "zMs8ueOeoitG",
        "outputId": "74b4738d-7757-40d6-a133-5a260b02a3b8"
      },
      "source": [
        "df['country'].unique()"
      ],
      "execution_count": null,
      "outputs": [
        {
          "output_type": "execute_result",
          "data": {
            "text/plain": [
              "array(['GBR', 'PRT', 'BRA', 'SWE', 'DEU', 'SVN', 'ESP', 'BEL', 'FRA',\n",
              "       'USA', 'ARG', 'NLD', 'UGA', 'EST', 'TUR', 'AUT', 'LUX', 'KOR',\n",
              "       'CHN', nan, 'AUS', 'ARE', 'JAM', 'IRL', 'AGO', 'NOR', 'CN', 'ISR',\n",
              "       'DZA', 'CHE', 'MAR', 'ITA', 'NGA', 'CZE', 'FIN', 'JPN', 'RUS',\n",
              "       'DNK', 'PRY', 'POL', 'LTU', 'HUN', 'MOZ', 'QAT', 'IND', 'GIB',\n",
              "       'BIH', 'ROU', 'ISL', 'HRV', 'CIV', 'ZAF', 'BGR', 'LVA', 'COL',\n",
              "       'KWT', 'DOM', 'CHL', 'SGP', 'ECU', 'IRN', 'ARM', 'BEN', 'GRC',\n",
              "       'BLR', 'SRB', 'ALB', 'TGO', 'EGY', 'MEX', 'MCO', 'AZE', 'CYP',\n",
              "       'MDV', 'KEN', 'TMP', 'MUS', 'SVK', 'IDN', 'GEO', 'TZA', 'SEN',\n",
              "       'NZL', 'VEN', 'JOR', 'PRI', 'BOL', 'LCA', 'UKR', 'GTM', 'AND',\n",
              "       'BGD', 'CRI', 'MWI', 'URY', 'TWN', 'PAK', 'BRB', 'SAU', 'MKD',\n",
              "       'HKG', 'GNB', 'MYS', 'PHL', 'THA', 'MYT', 'KAZ', 'LIE', 'MAC',\n",
              "       'TUN', 'ABW', 'GAB', 'LBN', 'CAF', 'LBY', 'FRO', 'HND', 'CPV',\n",
              "       'PER', 'MLT', 'CMR', 'OMN', 'ZWE', 'BHR', 'JEY', 'TJK', 'DJI',\n",
              "       'CUB', 'IMN', 'MRT', 'PAN', 'VNM', 'ASM', 'LAO', 'SMR', 'PLW',\n",
              "       'UMI', 'KHM', 'KNA', 'COM', 'NIC', 'IRQ', 'UZB', 'LKA', 'BFA',\n",
              "       'SUR', 'ATF', 'MLI', 'BDI', 'ZMB', 'SYR'], dtype=object)"
            ]
          },
          "metadata": {},
          "execution_count": 323
        }
      ]
    },
    {
      "cell_type": "markdown",
      "metadata": {
        "id": "IhrHI29bovLW"
      },
      "source": [
        "### Berapa harga room per night? Ada perbedaan hargakah?"
      ]
    },
    {
      "cell_type": "code",
      "metadata": {
        "colab": {
          "base_uri": "https://localhost:8080/"
        },
        "id": "F_A23n5Aopmo",
        "outputId": "8c4f374e-c7ce-4ed8-fafd-f9c83ce68669"
      },
      "source": [
        "df['adr'].describe()"
      ],
      "execution_count": null,
      "outputs": [
        {
          "output_type": "execute_result",
          "data": {
            "text/plain": [
              "count    50000.000000\n",
              "mean       101.955308\n",
              "std         48.091588\n",
              "min         -6.380000\n",
              "25%         69.182500\n",
              "50%         95.000000\n",
              "75%        126.000000\n",
              "max        508.000000\n",
              "Name: adr, dtype: float64"
            ]
          },
          "metadata": {},
          "execution_count": 324
        }
      ]
    },
    {
      "cell_type": "markdown",
      "metadata": {
        "id": "tmGNUDK2p4rF"
      },
      "source": [
        "### D. Berapa lama tamu tinggal di hotel?"
      ]
    },
    {
      "cell_type": "code",
      "metadata": {
        "id": "PrAYWDlEpUT1",
        "colab": {
          "base_uri": "https://localhost:8080/",
          "height": 111
        },
        "outputId": "b62b80c5-91ed-4f50-e5e1-610faf4c81f4"
      },
      "source": [
        "df.pivot_table(columns='hotel', values=['stays_in_weekend_nights', 'stays_in_week_nights'], aggfunc=lambda x:x.sum())"
      ],
      "execution_count": null,
      "outputs": [
        {
          "output_type": "execute_result",
          "data": {
            "text/html": [
              "<div>\n",
              "<style scoped>\n",
              "    .dataframe tbody tr th:only-of-type {\n",
              "        vertical-align: middle;\n",
              "    }\n",
              "\n",
              "    .dataframe tbody tr th {\n",
              "        vertical-align: top;\n",
              "    }\n",
              "\n",
              "    .dataframe thead th {\n",
              "        text-align: right;\n",
              "    }\n",
              "</style>\n",
              "<table border=\"1\" class=\"dataframe\">\n",
              "  <thead>\n",
              "    <tr style=\"text-align: right;\">\n",
              "      <th>hotel</th>\n",
              "      <th>City Hotel</th>\n",
              "      <th>Resort Hotel</th>\n",
              "    </tr>\n",
              "  </thead>\n",
              "  <tbody>\n",
              "    <tr>\n",
              "      <th>stays_in_week_nights</th>\n",
              "      <td>72166</td>\n",
              "      <td>52432</td>\n",
              "    </tr>\n",
              "    <tr>\n",
              "      <th>stays_in_weekend_nights</th>\n",
              "      <td>26242</td>\n",
              "      <td>19923</td>\n",
              "    </tr>\n",
              "  </tbody>\n",
              "</table>\n",
              "</div>"
            ],
            "text/plain": [
              "hotel                    City Hotel  Resort Hotel\n",
              "stays_in_week_nights          72166         52432\n",
              "stays_in_weekend_nights       26242         19923"
            ]
          },
          "metadata": {},
          "execution_count": 325
        }
      ]
    },
    {
      "cell_type": "code",
      "metadata": {
        "colab": {
          "base_uri": "https://localhost:8080/"
        },
        "id": "ZVSN6Un5KiD0",
        "outputId": "a145d1a3-6e98-405b-e801-5d43a3241fc7"
      },
      "source": [
        "df['stays_in_week_nights'].unique()"
      ],
      "execution_count": null,
      "outputs": [
        {
          "output_type": "execute_result",
          "data": {
            "text/plain": [
              "array([ 5,  3,  1,  2,  4,  0,  8,  6,  9, 15, 10, 11, 12,  7, 19, 13, 18,\n",
              "       20, 30, 17, 14, 50, 32, 16, 33, 21, 22, 25])"
            ]
          },
          "metadata": {},
          "execution_count": 326
        }
      ]
    },
    {
      "cell_type": "code",
      "metadata": {
        "colab": {
          "base_uri": "https://localhost:8080/"
        },
        "id": "cdW493Q0KvMc",
        "outputId": "c50a68a0-ed93-4197-ae3d-8aadd5fb3099"
      },
      "source": [
        "round(df['stays_in_week_nights'].mean())"
      ],
      "execution_count": null,
      "outputs": [
        {
          "output_type": "execute_result",
          "data": {
            "text/plain": [
              "2"
            ]
          },
          "metadata": {},
          "execution_count": 327
        }
      ]
    },
    {
      "cell_type": "code",
      "metadata": {
        "colab": {
          "base_uri": "https://localhost:8080/"
        },
        "id": "t8G-f6WmKpi0",
        "outputId": "1bc8457c-c6df-48d1-9ec3-6af347666892"
      },
      "source": [
        "df['stays_in_weekend_nights'].unique()"
      ],
      "execution_count": null,
      "outputs": [
        {
          "output_type": "execute_result",
          "data": {
            "text/plain": [
              "array([ 2,  0,  1,  3,  4,  6,  5,  7,  8, 12, 19, 13,  9, 10])"
            ]
          },
          "metadata": {},
          "execution_count": 328
        }
      ]
    },
    {
      "cell_type": "code",
      "metadata": {
        "colab": {
          "base_uri": "https://localhost:8080/"
        },
        "id": "Vx5GQG3-K4i7",
        "outputId": "de01179c-5d75-4240-9bee-1119e6b48d82"
      },
      "source": [
        "round(df['stays_in_weekend_nights'].mean())"
      ],
      "execution_count": null,
      "outputs": [
        {
          "output_type": "execute_result",
          "data": {
            "text/plain": [
              "1"
            ]
          },
          "metadata": {},
          "execution_count": 329
        }
      ]
    },
    {
      "cell_type": "markdown",
      "metadata": {
        "id": "Nml3uCdVspkK"
      },
      "source": [
        "### E. Ada market segment?"
      ]
    },
    {
      "cell_type": "code",
      "metadata": {
        "colab": {
          "base_uri": "https://localhost:8080/"
        },
        "id": "A0EuXRo2st1S",
        "outputId": "3180555d-3311-4221-8978-48ce6a446c3c"
      },
      "source": [
        "df['market_segment'].unique()"
      ],
      "execution_count": null,
      "outputs": [
        {
          "output_type": "execute_result",
          "data": {
            "text/plain": [
              "array(['Direct', 'Online TA', 'Offline TA/TO', 'Groups', 'Corporate',\n",
              "       'Aviation', 'Complementary'], dtype=object)"
            ]
          },
          "metadata": {},
          "execution_count": 330
        }
      ]
    },
    {
      "cell_type": "code",
      "metadata": {
        "colab": {
          "base_uri": "https://localhost:8080/",
          "height": 453
        },
        "id": "CEhREd4FI6G0",
        "outputId": "6773794d-ca85-40f2-c4c2-52d01bb1e280"
      },
      "source": [
        "market_segment = sns.catplot(data=df, x='market_segment', kind='count', hue='is_canceled')\n",
        "market_segment.set_xticklabels(rotation=65, horizontalalignment='right')"
      ],
      "execution_count": null,
      "outputs": [
        {
          "output_type": "execute_result",
          "data": {
            "text/plain": [
              "<seaborn.axisgrid.FacetGrid at 0x7fbb2a96b210>"
            ]
          },
          "metadata": {},
          "execution_count": 331
        },
        {
          "output_type": "display_data",
          "data": {
            "image/png": "[encoded data removed]",
            "text/plain": [
              "<Figure size 426.125x360 with 1 Axes>"
            ]
          },
          "metadata": {
            "needs_background": "light"
          }
        }
      ]
    },
    {
      "cell_type": "markdown",
      "metadata": {
        "id": "GuemYaTlswob"
      },
      "source": [
        "### F. Berapa banyak booking yang dicancel/tidak dicancel?"
      ]
    },
    {
      "cell_type": "code",
      "metadata": {
        "colab": {
          "base_uri": "https://localhost:8080/",
          "height": 351
        },
        "id": "2hnccoBCsx8N",
        "outputId": "98b7abdd-8f87-493a-ce20-e507a4737d39"
      },
      "source": [
        "sns.countplot(df['is_canceled'])"
      ],
      "execution_count": null,
      "outputs": [
        {
          "output_type": "stream",
          "name": "stderr",
          "text": [
            "/usr/local/lib/python3.7/dist-packages/seaborn/_decorators.py:43: FutureWarning: Pass the following variable as a keyword arg: x. From version 0.12, the only valid positional argument will be `data`, and passing other arguments without an explicit keyword will result in an error or misinterpretation.\n",
            "  FutureWarning\n"
          ]
        },
        {
          "output_type": "execute_result",
          "data": {
            "text/plain": [
              "<matplotlib.axes._subplots.AxesSubplot at 0x7fbb2a71b790>"
            ]
          },
          "metadata": {},
          "execution_count": 332
        },
        {
          "output_type": "display_data",
          "data": {
            "image/png": "[encoded data removed]",
            "text/plain": [
              "<Figure size 432x288 with 1 Axes>"
            ]
          },
          "metadata": {
            "needs_background": "light"
          }
        }
      ]
    },
    {
      "cell_type": "code",
      "metadata": {
        "colab": {
          "base_uri": "https://localhost:8080/"
        },
        "id": "mFQbFTmZtovL",
        "outputId": "3b5532e0-dff3-4fb5-e454-70359ff21e19"
      },
      "source": [
        "df['is_canceled'].value_counts() "
      ],
      "execution_count": null,
      "outputs": [
        {
          "output_type": "execute_result",
          "data": {
            "text/plain": [
              "0    31420\n",
              "1    18580\n",
              "Name: is_canceled, dtype: int64"
            ]
          },
          "metadata": {},
          "execution_count": 333
        }
      ]
    },
    {
      "cell_type": "code",
      "metadata": {
        "colab": {
          "base_uri": "https://localhost:8080/"
        },
        "id": "KFhvu-QlGEtB",
        "outputId": "db09988c-c7ae-4984-ac52-2e2f415915af"
      },
      "source": [
        "iscanceled = len(df[df['is_canceled']==1])\n",
        "print(\"Percentage cancelation= \", iscanceled/len(df))\n",
        "df['reservation_status'].value_counts(normalize=True)*100"
      ],
      "execution_count": null,
      "outputs": [
        {
          "output_type": "stream",
          "name": "stdout",
          "text": [
            "Percentage cancelation=  0.3716\n"
          ]
        },
        {
          "output_type": "execute_result",
          "data": {
            "text/plain": [
              "Check-Out    62.84\n",
              "Canceled     36.17\n",
              "No-Show       0.99\n",
              "Name: reservation_status, dtype: float64"
            ]
          },
          "metadata": {},
          "execution_count": 334
        }
      ]
    },
    {
      "cell_type": "code",
      "metadata": {
        "colab": {
          "base_uri": "https://localhost:8080/",
          "height": 315
        },
        "id": "Uv1sOdrDGdqH",
        "outputId": "7750302d-102a-4f3c-d149-52e15e3aa3ce"
      },
      "source": [
        "sns.countplot(data=df, x='hotel', hue='is_canceled')\n",
        "\n",
        "resort_hotel = df[(df['hotel']=='Resort Hotel') & (df['is_canceled']==1)]\n",
        "city_hotel = df[(df['hotel']=='City Hotel') & (df['is_canceled']==1)]\n",
        "\n",
        "print('Cancel pada Resort Hotel= ', (len(resort_hotel))/(len(df[df['hotel']=='Resort Hotel'])))\n",
        "print('Cancel pada City Hotel= ', (len(city_hotel))/(len(df[df['hotel']=='City Hotel'])))"
      ],
      "execution_count": null,
      "outputs": [
        {
          "output_type": "stream",
          "name": "stdout",
          "text": [
            "Cancel pada Resort Hotel=  0.2748761415865815\n",
            "Cancel pada City Hotel=  0.42033867717388035\n"
          ]
        },
        {
          "output_type": "display_data",
          "data": {
            "image/png": "[encoded data removed]",
            "text/plain": [
              "<Figure size 432x288 with 1 Axes>"
            ]
          },
          "metadata": {
            "needs_background": "light"
          }
        }
      ]
    },
    {
      "cell_type": "code",
      "metadata": {
        "colab": {
          "base_uri": "https://localhost:8080/",
          "height": 314
        },
        "id": "AfNjagrxHlNl",
        "outputId": "faf6036e-04f3-42a3-ad5c-08f566ae9e28"
      },
      "source": [
        "sns.countplot(data=df, x='is_repeated_guest', hue='is_canceled')\n",
        "\n",
        "new_guest = df[(df['is_repeated_guest']==0) & (df['is_canceled']==1)]\n",
        "old_guest = df[(df['is_repeated_guest']==1) & (df['is_canceled']==1)]\n",
        "\n",
        "print('Cancelations among new guests= ', (len(new_guest))/(len(df[df['is_repeated_guest']==0])))\n",
        "print('Cancelations among old guests= ', (len(old_guest))/(len(df[df['is_repeated_guest']==1])))"
      ],
      "execution_count": null,
      "outputs": [
        {
          "output_type": "stream",
          "name": "stdout",
          "text": [
            "Cancelations among new guests=  0.37877191895408635\n",
            "Cancelations among old guests=  0.15224257738471256\n"
          ]
        },
        {
          "output_type": "display_data",
          "data": {
            "image/png": "[encoded data removed]",
            "text/plain": [
              "<Figure size 432x288 with 1 Axes>"
            ]
          },
          "metadata": {
            "needs_background": "light"
          }
        }
      ]
    },
    {
      "cell_type": "markdown",
      "metadata": {
        "id": "18i0kjX_U2nX"
      },
      "source": [
        "# Data Cleaning & Preprocessing"
      ]
    },
    {
      "cell_type": "markdown",
      "metadata": {
        "id": "3Q-EgaOheZgM"
      },
      "source": [
        "### A. Handling Missing Value"
      ]
    },
    {
      "cell_type": "code",
      "metadata": {
        "colab": {
          "base_uri": "https://localhost:8080/"
        },
        "id": "KyFyhUhvXT8G",
        "outputId": "ebb80567-9c41-4249-ca8b-731627c318b0"
      },
      "source": [
        "df.info()"
      ],
      "execution_count": null,
      "outputs": [
        {
          "output_type": "stream",
          "name": "stdout",
          "text": [
            "<class 'pandas.core.frame.DataFrame'>\n",
            "Int64Index: 50000 entries, 30946 to 45898\n",
            "Data columns (total 32 columns):\n",
            " #   Column                          Non-Null Count  Dtype  \n",
            "---  ------                          --------------  -----  \n",
            " 0   hotel                           50000 non-null  object \n",
            " 1   is_canceled                     50000 non-null  int64  \n",
            " 2   lead_time                       50000 non-null  int64  \n",
            " 3   arrival_date_year               50000 non-null  int64  \n",
            " 4   arrival_date_month              50000 non-null  object \n",
            " 5   arrival_date_week_number        50000 non-null  int64  \n",
            " 6   arrival_date_day_of_month       50000 non-null  int64  \n",
            " 7   stays_in_weekend_nights         50000 non-null  int64  \n",
            " 8   stays_in_week_nights            50000 non-null  int64  \n",
            " 9   adults                          50000 non-null  int64  \n",
            " 10  children                        50000 non-null  float64\n",
            " 11  babies                          50000 non-null  int64  \n",
            " 12  meal                            50000 non-null  object \n",
            " 13  country                         49791 non-null  object \n",
            " 14  market_segment                  50000 non-null  object \n",
            " 15  distribution_channel            50000 non-null  object \n",
            " 16  is_repeated_guest               50000 non-null  int64  \n",
            " 17  previous_cancellations          50000 non-null  int64  \n",
            " 18  previous_bookings_not_canceled  50000 non-null  int64  \n",
            " 19  reserved_room_type              50000 non-null  object \n",
            " 20  assigned_room_type              50000 non-null  object \n",
            " 21  booking_changes                 50000 non-null  int64  \n",
            " 22  deposit_type                    50000 non-null  object \n",
            " 23  agent                           43158 non-null  float64\n",
            " 24  company                         2845 non-null   float64\n",
            " 25  days_in_waiting_list            50000 non-null  int64  \n",
            " 26  customer_type                   50000 non-null  object \n",
            " 27  adr                             50000 non-null  float64\n",
            " 28  required_car_parking_spaces     50000 non-null  int64  \n",
            " 29  total_of_special_requests       50000 non-null  int64  \n",
            " 30  reservation_status              50000 non-null  object \n",
            " 31  reservation_status_date         50000 non-null  object \n",
            "dtypes: float64(4), int64(16), object(12)\n",
            "memory usage: 13.8+ MB\n"
          ]
        }
      ]
    },
    {
      "cell_type": "code",
      "metadata": {
        "id": "9zHIF2NtV6kb"
      },
      "source": [
        "df['country'].fillna(df['country'].mode()[0], inplace=True)\n",
        "df['agent'].fillna(df['agent'].mode()[0], inplace=True)\n",
        "df['company'].fillna(df['company'].mode()[0], inplace=True)"
      ],
      "execution_count": null,
      "outputs": []
    },
    {
      "cell_type": "markdown",
      "metadata": {
        "id": "s6_5tgaZe20j"
      },
      "source": [
        "### B. Handling Outliers"
      ]
    },
    {
      "cell_type": "code",
      "metadata": {
        "colab": {
          "base_uri": "https://localhost:8080/",
          "height": 1000
        },
        "id": "PeYyTS4gteM8",
        "outputId": "25336dba-3451-4304-ad8d-3aadd10bf40e"
      },
      "source": [
        "plt.figure(figsize=(60,60))\n",
        "df.boxplot()"
      ],
      "execution_count": null,
      "outputs": [
        {
          "output_type": "execute_result",
          "data": {
            "text/plain": [
              "<matplotlib.axes._subplots.AxesSubplot at 0x7fbb2ad61190>"
            ]
          },
          "metadata": {},
          "execution_count": 339
        },
        {
          "output_type": "display_data",
          "data": {
            "image/png": "[encoded data removed]",
            "text/plain": [
              "<Figure size 4320x4320 with 1 Axes>"
            ]
          },
          "metadata": {
            "needs_background": "light"
          }
        }
      ]
    },
    {
      "cell_type": "markdown",
      "metadata": {
        "id": "l_GfPlc-AfTh"
      },
      "source": [
        "Lead Time"
      ]
    },
    {
      "cell_type": "code",
      "metadata": {
        "colab": {
          "base_uri": "https://localhost:8080/"
        },
        "id": "esChir1UJMsI",
        "outputId": "1b2dab6e-669c-40a7-8dfa-b955446d601c"
      },
      "source": [
        "df['lead_time'].unique()"
      ],
      "execution_count": null,
      "outputs": [
        {
          "output_type": "execute_result",
          "data": {
            "text/plain": [
              "array([203,  82,  25,   1,  70, 170,  21, 102,  55, 222, 120,  88,  79,\n",
              "        41, 239,  23,  34,  38, 160,  32,  56,  97,  85, 278, 175,  26,\n",
              "       360, 378, 165,   4, 179, 349,  47, 237,  31, 158, 386,  10,  76,\n",
              "        42, 210,  33,   7,  28, 274, 155,  48, 154, 364,  18,  15,  22,\n",
              "        80, 164,  69,   3, 206, 157,  30,  53, 246, 304, 127,   0, 113,\n",
              "       272,  11,  98, 292,  16,  49, 379, 289, 108, 128,  46, 332, 260,\n",
              "       166, 172,   2,   8, 468,  36, 262,  91,  50,  19,  61, 297, 131,\n",
              "       228, 330, 144, 313, 524, 138, 156, 391,  66, 256,  94, 191,   9,\n",
              "        81, 150, 448, 152,  14, 135, 236, 316, 200, 277, 242, 253, 357,\n",
              "       118, 207,  87,  37, 110,  74, 143, 344,  43, 100,  92, 215, 208,\n",
              "        78, 133, 199,  40,  13,   5, 153,  54, 235, 185, 229,  17, 149,\n",
              "       163, 122, 395,  71, 151, 169,  73, 219, 288, 162, 214, 142,  99,\n",
              "       320, 211, 198, 408,  27, 129, 275, 107, 281, 111, 190, 240, 279,\n",
              "        64, 594,  84, 184, 130, 248, 233, 183, 355,  96, 181,   6,  39,\n",
              "       286, 280,  59,  62, 104,  83,  77, 167,  72, 109, 265, 105, 178,\n",
              "        29, 197,  86, 247, 220, 213, 238, 195,  58, 194, 174, 139,  52,\n",
              "       250, 106,  12,  57,  95, 103, 168, 192, 273, 234, 134, 115,  63,\n",
              "       462, 212, 221, 147, 177,  20,  44, 285, 342,  68,  24, 159, 287,\n",
              "       121, 327, 451,  65, 117, 187, 188, 176,  93, 244, 251, 125, 112,\n",
              "       245, 542, 385,  51, 146, 140, 196, 301, 126, 267, 350, 300,  67,\n",
              "       317, 243,  35, 132, 437, 323,  89, 225, 209, 326, 405, 396, 283,\n",
              "       204, 305, 336, 312,  75, 334, 205, 241, 307,  90, 186, 443, 302,\n",
              "       346, 124, 161, 420, 217, 230, 226, 315, 263, 295, 231, 116, 479,\n",
              "       101, 145,  45, 137, 171, 173, 216, 444, 318, 258, 276, 271, 464,\n",
              "       223, 296, 356,  60, 475, 193, 114, 282, 259, 433, 299, 257, 339,\n",
              "       322, 136, 291, 314, 189, 504, 337, 201, 447, 123, 119, 422, 224,\n",
              "       294, 365, 341, 202, 306, 351, 335, 538, 457, 249, 333, 328, 182,\n",
              "       298, 141, 264, 368, 412, 429, 148, 255, 377, 261, 518, 622, 227,\n",
              "       325, 454, 423, 393, 359, 270, 293, 383, 218, 476, 566, 345, 308,\n",
              "       367, 266, 338, 232, 252, 414, 352, 353, 507, 290, 629, 418, 180,\n",
              "       358, 573, 493, 284, 545, 347, 552, 309, 372, 348, 303, 254, 478,\n",
              "       343, 601, 426, 268, 398, 311, 521, 388, 580, 419, 310, 434, 319,\n",
              "       465, 269, 321, 363, 409, 489, 626, 407, 531, 373, 460, 615, 329,\n",
              "       394, 354, 517, 397, 370, 375, 510, 461, 587, 374, 384, 605, 490,\n",
              "       440, 371, 399, 559, 467, 503, 608, 340, 324, 411, 361, 382, 331,\n",
              "       482, 410, 496, 389, 471, 403, 450, 381, 463, 445, 709, 380, 406,\n",
              "       366, 737])"
            ]
          },
          "metadata": {},
          "execution_count": 340
        }
      ]
    },
    {
      "cell_type": "code",
      "metadata": {
        "colab": {
          "base_uri": "https://localhost:8080/",
          "height": 283
        },
        "id": "HIKBjn72ACNW",
        "outputId": "7b40b438-187f-408d-8964-2eacbbe86a60"
      },
      "source": [
        "df['lead_time'].plot(kind='box')"
      ],
      "execution_count": null,
      "outputs": [
        {
          "output_type": "execute_result",
          "data": {
            "text/plain": [
              "<matplotlib.axes._subplots.AxesSubplot at 0x7fbb2a635ad0>"
            ]
          },
          "metadata": {},
          "execution_count": 341
        },
        {
          "output_type": "display_data",
          "data": {
            "image/png": "[encoded data removed]",
            "text/plain": [
              "<Figure size 432x288 with 1 Axes>"
            ]
          },
          "metadata": {
            "needs_background": "light"
          }
        }
      ]
    },
    {
      "cell_type": "code",
      "metadata": {
        "colab": {
          "base_uri": "https://localhost:8080/"
        },
        "id": "oWMhKzlk-Jv0",
        "outputId": "3987920c-22c8-4e7c-e2bf-d40d3f9ff972"
      },
      "source": [
        "outliers = []\n",
        "def detect_outliers_iqr(data):\n",
        "    data = sorted(data)\n",
        "    q1 = np.percentile(data, 25)\n",
        "    q3 = np.percentile(data, 75)\n",
        "\n",
        "    IQR = q3-q1\n",
        "    lwr_bound = q1-(1.5*IQR)\n",
        "    upr_bound = q3+(1.5*IQR)\n",
        "\n",
        "    for i in data: \n",
        "        if (i<lwr_bound or i>upr_bound):\n",
        "            outliers.append(i)\n",
        "    return outliers\n",
        "sample_outliers = detect_outliers_iqr(df['lead_time'])\n",
        "print(\"Outliers from IQR method: \", sample_outliers)"
      ],
      "execution_count": null,
      "outputs": [
        {
          "output_type": "stream",
          "name": "stdout",
          "text": [
            "Outliers from IQR method:  [377, 377, 377, 377, 377, 377, 377, 377, 377, 377, 377, 377, 377, 377, 377, 377, 377, 377, 377, 377, 377, 377, 377, 377, 377, 377, 377, 377, 377, 377, 377, 377, 377, 377, 377, 377, 377, 377, 377, 378, 378, 378, 378, 378, 378, 378, 378, 378, 379, 379, 379, 379, 379, 379, 379, 379, 379, 379, 379, 379, 379, 379, 379, 379, 379, 379, 379, 379, 379, 379, 379, 379, 379, 379, 379, 380, 381, 382, 383, 383, 383, 383, 383, 383, 383, 383, 383, 383, 383, 383, 383, 383, 383, 383, 383, 383, 383, 383, 383, 383, 383, 383, 383, 383, 383, 383, 383, 383, 383, 383, 383, 384, 384, 384, 384, 384, 384, 384, 384, 384, 385, 385, 385, 385, 385, 385, 385, 385, 385, 385, 385, 385, 386, 386, 386, 386, 386, 386, 386, 386, 386, 386, 386, 386, 386, 386, 386, 386, 386, 386, 386, 386, 386, 386, 386, 386, 386, 386, 386, 386, 386, 386, 386, 386, 386, 386, 386, 386, 386, 386, 386, 386, 386, 386, 386, 386, 386, 386, 386, 386, 386, 386, 386, 386, 386, 386, 386, 386, 386, 386, 386, 386, 386, 386, 386, 386, 386, 386, 386, 386, 386, 386, 386, 386, 386, 386, 388, 388, 388, 388, 388, 388, 388, 388, 389, 389, 391, 391, 391, 391, 391, 391, 391, 391, 391, 391, 391, 391, 391, 391, 391, 391, 391, 391, 391, 391, 391, 391, 391, 391, 391, 391, 391, 391, 391, 393, 393, 393, 393, 393, 393, 393, 393, 393, 393, 393, 393, 393, 393, 393, 393, 393, 393, 393, 393, 393, 393, 393, 393, 393, 393, 393, 393, 393, 393, 393, 393, 393, 393, 394, 394, 394, 394, 394, 394, 394, 394, 395, 395, 395, 395, 395, 395, 395, 395, 395, 395, 395, 395, 395, 395, 395, 395, 395, 395, 395, 395, 395, 395, 395, 395, 395, 395, 395, 396, 396, 396, 396, 396, 396, 396, 396, 396, 396, 396, 396, 396, 396, 396, 396, 396, 396, 396, 396, 396, 396, 396, 396, 396, 396, 396, 396, 396, 396, 396, 396, 397, 397, 397, 397, 397, 397, 397, 397, 398, 398, 398, 398, 398, 398, 398, 398, 398, 398, 398, 398, 399, 403, 405, 405, 405, 405, 405, 405, 405, 405, 405, 405, 405, 405, 405, 405, 405, 405, 405, 405, 405, 405, 405, 405, 405, 405, 405, 405, 405, 405, 405, 405, 405, 405, 405, 405, 405, 405, 405, 405, 405, 405, 405, 405, 405, 405, 405, 405, 405, 405, 405, 405, 405, 405, 406, 407, 407, 407, 407, 407, 407, 407, 407, 407, 408, 408, 408, 408, 408, 409, 409, 409, 409, 409, 409, 409, 410, 410, 410, 410, 410, 411, 411, 411, 411, 411, 411, 411, 412, 412, 412, 412, 412, 412, 412, 412, 412, 412, 412, 412, 414, 414, 414, 414, 414, 414, 414, 414, 414, 414, 414, 414, 414, 414, 414, 414, 414, 414, 414, 414, 414, 414, 414, 414, 414, 414, 414, 414, 414, 414, 414, 414, 414, 414, 414, 414, 414, 414, 414, 414, 414, 414, 414, 414, 418, 418, 418, 418, 418, 418, 418, 418, 418, 418, 418, 418, 418, 418, 418, 418, 418, 418, 418, 418, 418, 418, 418, 418, 418, 418, 418, 418, 419, 419, 419, 419, 419, 419, 419, 419, 419, 419, 419, 419, 419, 419, 419, 420, 420, 420, 420, 420, 420, 420, 420, 420, 420, 420, 420, 420, 420, 420, 420, 420, 420, 420, 420, 420, 420, 420, 420, 420, 420, 420, 420, 420, 422, 422, 422, 422, 422, 422, 422, 422, 423, 423, 423, 423, 423, 423, 423, 423, 423, 423, 423, 423, 423, 423, 423, 423, 423, 423, 423, 423, 423, 423, 423, 423, 423, 423, 423, 423, 423, 423, 423, 423, 423, 423, 423, 423, 423, 423, 423, 423, 423, 423, 426, 426, 426, 426, 426, 426, 426, 426, 426, 426, 426, 426, 426, 429, 429, 429, 429, 429, 429, 429, 429, 433, 433, 433, 433, 433, 433, 433, 433, 433, 433, 433, 433, 433, 433, 433, 433, 433, 433, 433, 433, 433, 433, 433, 433, 434, 434, 434, 434, 434, 434, 434, 434, 434, 434, 434, 434, 434, 437, 437, 437, 437, 437, 437, 437, 437, 437, 437, 437, 437, 437, 437, 437, 440, 440, 440, 440, 440, 440, 440, 440, 440, 440, 443, 443, 443, 443, 443, 443, 443, 443, 443, 443, 443, 443, 443, 443, 444, 444, 444, 444, 444, 444, 444, 444, 444, 444, 444, 445, 447, 447, 447, 447, 447, 447, 447, 447, 447, 447, 447, 447, 447, 447, 447, 448, 448, 448, 448, 448, 448, 448, 448, 448, 448, 448, 448, 448, 448, 448, 450, 450, 451, 451, 451, 451, 451, 451, 451, 451, 451, 451, 451, 451, 451, 451, 451, 451, 451, 451, 451, 451, 451, 451, 451, 451, 454, 454, 454, 454, 454, 454, 454, 454, 454, 454, 454, 454, 454, 454, 454, 454, 454, 454, 454, 454, 454, 457, 457, 457, 457, 457, 457, 457, 457, 457, 457, 457, 457, 457, 457, 457, 457, 457, 457, 457, 457, 457, 457, 457, 457, 457, 457, 457, 457, 457, 457, 457, 457, 457, 457, 457, 457, 457, 457, 457, 457, 460, 460, 460, 461, 461, 461, 461, 461, 461, 461, 461, 461, 461, 461, 461, 461, 461, 462, 462, 462, 462, 462, 462, 462, 462, 462, 462, 462, 462, 462, 462, 462, 462, 463, 464, 464, 464, 464, 464, 464, 464, 464, 464, 464, 464, 464, 464, 465, 465, 465, 465, 465, 465, 465, 465, 465, 465, 465, 465, 465, 465, 465, 465, 465, 465, 465, 467, 467, 467, 468, 468, 468, 468, 468, 468, 468, 468, 468, 468, 468, 468, 468, 468, 468, 468, 468, 468, 468, 468, 468, 468, 468, 468, 468, 468, 468, 468, 468, 468, 468, 468, 468, 468, 468, 468, 468, 468, 468, 468, 468, 468, 468, 468, 468, 468, 468, 468, 468, 468, 468, 468, 468, 468, 471, 471, 475, 475, 475, 475, 475, 475, 475, 475, 475, 475, 475, 475, 476, 476, 476, 476, 476, 476, 476, 476, 476, 476, 478, 478, 478, 479, 479, 479, 479, 479, 479, 479, 479, 479, 479, 479, 479, 479, 479, 479, 482, 482, 482, 482, 482, 482, 482, 482, 489, 489, 489, 489, 489, 489, 489, 489, 489, 489, 490, 490, 490, 493, 493, 493, 493, 493, 496, 496, 496, 496, 496, 496, 496, 503, 503, 503, 503, 503, 503, 504, 504, 504, 504, 504, 504, 504, 504, 507, 507, 507, 507, 507, 510, 510, 510, 510, 510, 510, 510, 510, 510, 517, 517, 517, 517, 517, 517, 517, 518, 518, 518, 518, 518, 518, 518, 518, 518, 518, 518, 518, 518, 518, 521, 521, 521, 521, 521, 524, 524, 524, 524, 524, 524, 531, 531, 531, 531, 531, 531, 531, 531, 531, 531, 531, 531, 538, 538, 538, 538, 538, 542, 542, 542, 542, 542, 542, 542, 542, 542, 545, 545, 545, 545, 545, 545, 552, 552, 552, 552, 552, 552, 559, 559, 559, 559, 559, 559, 559, 559, 566, 566, 566, 566, 566, 573, 573, 573, 580, 580, 580, 580, 580, 580, 580, 580, 580, 580, 580, 587, 587, 587, 587, 587, 587, 587, 594, 594, 594, 594, 594, 594, 594, 594, 594, 594, 594, 601, 601, 601, 601, 601, 601, 605, 605, 605, 605, 605, 605, 605, 605, 605, 608, 608, 608, 608, 608, 608, 608, 615, 615, 615, 615, 615, 615, 622, 622, 622, 622, 622, 622, 626, 626, 626, 626, 626, 626, 626, 626, 626, 626, 626, 626, 626, 626, 626, 626, 626, 626, 629, 629, 629, 709, 737]\n"
          ]
        }
      ]
    },
    {
      "cell_type": "code",
      "metadata": {
        "colab": {
          "base_uri": "https://localhost:8080/",
          "height": 266
        },
        "id": "NZEGsRd4-R8z",
        "outputId": "854be604-b846-4a8a-e0f5-f0ef9ea88146"
      },
      "source": [
        "df = df[df['lead_time']<377]\n",
        "df['lead_time'].plot(kind='box', showfliers=False)\n",
        "plt.show()"
      ],
      "execution_count": null,
      "outputs": [
        {
          "output_type": "display_data",
          "data": {
            "image/png": "[encoded data removed]",
            "text/plain": [
              "<Figure size 432x288 with 1 Axes>"
            ]
          },
          "metadata": {
            "needs_background": "light"
          }
        }
      ]
    },
    {
      "cell_type": "markdown",
      "metadata": {
        "id": "FPLof2goAuzw"
      },
      "source": [
        "ADR"
      ]
    },
    {
      "cell_type": "code",
      "metadata": {
        "colab": {
          "base_uri": "https://localhost:8080/"
        },
        "id": "SmAftFeDColW",
        "outputId": "128f003c-ac00-473b-c702-d4c445055093"
      },
      "source": [
        "df['adr'].unique()"
      ],
      "execution_count": null,
      "outputs": [
        {
          "output_type": "execute_result",
          "data": {
            "text/plain": [
              "array([ 66.8 ,  76.5 ,  60.  , ...,  38.83,  80.32, 215.55])"
            ]
          },
          "metadata": {},
          "execution_count": 347
        }
      ]
    },
    {
      "cell_type": "code",
      "metadata": {
        "colab": {
          "base_uri": "https://localhost:8080/",
          "height": 282
        },
        "id": "95D6OsceWm2D",
        "outputId": "a2409018-be66-415f-c573-f0186cbe99a2"
      },
      "source": [
        "df['adr'].plot(kind='box')"
      ],
      "execution_count": null,
      "outputs": [
        {
          "output_type": "execute_result",
          "data": {
            "text/plain": [
              "<matplotlib.axes._subplots.AxesSubplot at 0x7fbb2a5c1910>"
            ]
          },
          "metadata": {},
          "execution_count": 348
        },
        {
          "output_type": "display_data",
          "data": {
            "image/png": "[encoded data removed]",
            "text/plain": [
              "<Figure size 432x288 with 1 Axes>"
            ]
          },
          "metadata": {
            "needs_background": "light"
          }
        }
      ]
    },
    {
      "cell_type": "code",
      "metadata": {
        "colab": {
          "base_uri": "https://localhost:8080/"
        },
        "id": "-MYGwnwUBYFI",
        "outputId": "32cc7163-d9ac-4ef3-afb2-20d08b4a6768"
      },
      "source": [
        "outliers = []\n",
        "def detect_outliers_iqr(data):\n",
        "    data = sorted(data)\n",
        "    q1 = np.percentile(data, 25)\n",
        "    q3 = np.percentile(data, 75)\n",
        "    # print(q1, q3)\n",
        "    IQR = q3-q1\n",
        "    lwr_bound = q1-(1.5*IQR)\n",
        "    upr_bound = q3+(1.5*IQR)\n",
        "    # print(lwr_bound, upr_bound)\n",
        "    for i in data: \n",
        "        if (i<lwr_bound or i>upr_bound):\n",
        "            outliers.append(i)\n",
        "    return outliers# Driver code\n",
        "sample_outliers = detect_outliers_iqr(df['adr'])\n",
        "print(\"Outliers from IQR method: \", sample_outliers)"
      ],
      "execution_count": null,
      "outputs": [
        {
          "output_type": "stream",
          "name": "stdout",
          "text": [
            "Outliers from IQR method:  [211.91, 212.0, 212.0, 212.0, 212.0, 212.0, 212.0, 212.0, 212.0, 212.0, 212.0, 212.0, 212.0, 212.0, 212.0, 212.0, 212.0, 212.0, 212.0, 212.0, 212.1, 212.14, 212.14, 212.17, 212.29, 212.31, 212.33, 212.4, 212.4, 212.5, 212.5, 212.6, 212.67, 212.67, 212.71, 212.72, 212.73, 212.8, 212.8, 212.8, 213.0, 213.0, 213.0, 213.0, 213.0, 213.0, 213.3, 213.3, 213.3, 213.6, 213.6, 213.6, 213.6, 213.75, 213.75, 213.75, 213.75, 213.75, 214.0, 214.0, 214.0, 214.0, 214.0, 214.0, 214.0, 214.0, 214.0, 214.0, 214.0, 214.0, 214.0, 214.0, 214.0, 214.0, 214.0, 214.0, 214.0, 214.1, 214.2, 214.2, 214.33, 214.4, 214.6, 214.67, 214.71, 214.75, 214.76, 214.8, 214.84, 214.86, 214.92, 214.99, 215.0, 215.0, 215.0, 215.0, 215.0, 215.0, 215.0, 215.0, 215.0, 215.0, 215.0, 215.0, 215.0, 215.0, 215.0, 215.0, 215.25, 215.27, 215.33, 215.33, 215.33, 215.33, 215.5, 215.5, 215.55, 215.6, 215.6, 215.6, 215.71, 215.86, 216.0, 216.0, 216.0, 216.0, 216.0, 216.0, 216.0, 216.0, 216.0, 216.0, 216.0, 216.0, 216.0, 216.0, 216.0, 216.0, 216.0, 216.0, 216.0, 216.0, 216.0, 216.29, 216.33, 216.5, 216.5, 216.5, 216.5, 216.5, 216.64, 216.67, 216.67, 216.67, 216.67, 216.86, 216.89, 216.9, 216.9, 216.9, 216.9, 217.0, 217.0, 217.0, 217.0, 217.0, 217.0, 217.0, 217.05, 217.08, 217.1, 217.1, 217.14, 217.2, 217.27, 217.33, 217.5, 217.5, 217.6, 217.67, 217.71, 217.75, 217.82, 217.86, 218.0, 218.0, 218.0, 218.0, 218.0, 218.0, 218.0, 218.0, 218.0, 218.0, 218.0, 218.11, 218.3, 218.33, 218.45, 218.5, 218.5, 218.67, 218.72, 218.8, 218.83, 219.0, 219.0, 219.0, 219.0, 219.0, 219.0, 219.0, 219.0, 219.0, 219.0, 219.0, 219.0, 219.0, 219.0, 219.0, 219.0, 219.0, 219.0, 219.0, 219.0, 219.0, 219.0, 219.0, 219.0, 219.0, 219.0, 219.0, 219.0, 219.0, 219.0, 219.03, 219.1, 219.2, 219.25, 219.29, 219.32, 219.33, 219.45, 219.5, 219.5, 219.6, 219.6, 220.0, 220.0, 220.0, 220.0, 220.0, 220.0, 220.0, 220.0, 220.0, 220.0, 220.0, 220.0, 220.0, 220.0, 220.0, 220.0, 220.0, 220.0, 220.0, 220.0, 220.0, 220.0, 220.0, 220.0, 220.0, 220.0, 220.0, 220.0, 220.0, 220.0, 220.0, 220.0, 220.0, 220.0, 220.05, 220.33, 220.33, 220.4, 220.4, 220.4, 220.49, 220.5, 220.5, 220.6, 220.65, 220.75, 220.87, 220.98, 221.0, 221.0, 221.0, 221.0, 221.0, 221.0, 221.0, 221.0, 221.0, 221.0, 221.0, 221.0, 221.0, 221.0, 221.0, 221.0, 221.0, 221.0, 221.0, 221.0, 221.0, 221.0, 221.0, 221.0, 221.1, 221.18, 221.2, 221.2, 221.33, 221.38, 221.38, 221.4, 221.41, 221.43, 221.62, 222.0, 222.0, 222.0, 222.0, 222.0, 222.0, 222.0, 222.0, 222.0, 222.0, 222.0, 222.0, 222.0, 222.0, 222.14, 222.17, 222.26, 222.3, 222.33, 222.33, 222.35, 222.5, 222.5, 222.57, 222.67, 222.93, 223.0, 223.0, 223.0, 223.0, 223.0, 223.0, 223.0, 223.0, 223.0, 223.0, 223.29, 223.32, 223.5, 223.55, 223.57, 223.6, 223.67, 223.99, 224.0, 224.0, 224.0, 224.0, 224.0, 224.0, 224.0, 224.0, 224.0, 224.0, 224.0, 224.0, 224.0, 224.0, 224.07, 224.1, 224.1, 224.1, 224.16, 224.25, 224.33, 224.43, 224.44, 224.67, 224.67, 224.67, 224.67, 224.67, 224.67, 224.67, 224.67, 224.67, 224.67, 224.67, 224.67, 224.67, 224.67, 224.67, 224.67, 224.67, 224.8, 224.9, 225.0, 225.0, 225.0, 225.0, 225.0, 225.0, 225.0, 225.0, 225.0, 225.0, 225.0, 225.0, 225.0, 225.0, 225.0, 225.0, 225.0, 225.0, 225.0, 225.0, 225.0, 225.0, 225.0, 225.0, 225.0, 225.0, 225.0, 225.0, 225.0, 225.0, 225.0, 225.0, 225.0, 225.0, 225.0, 225.0, 225.0, 225.0, 225.0, 225.0, 225.0, 225.2, 225.2, 225.28, 225.4, 225.43, 225.45, 225.48, 225.5, 225.6, 225.67, 225.71, 225.8, 225.9, 225.9, 226.0, 226.0, 226.0, 226.17, 226.5, 226.5, 226.5, 226.67, 226.73, 226.95, 226.95, 226.95, 227.0, 227.0, 227.0, 227.0, 227.0, 227.0, 227.06, 227.1, 227.1, 227.1, 227.1, 227.15, 227.22, 227.67, 227.9, 227.92, 228.0, 228.0, 228.0, 228.0, 228.0, 228.0, 228.0, 228.0, 228.0, 228.0, 228.0, 228.21, 228.3, 228.5, 228.5, 228.53, 228.57, 228.6, 228.84, 228.89, 229.0, 229.0, 229.0, 229.0, 229.0, 229.0, 229.0, 229.0, 229.0, 229.0, 229.0, 229.0, 229.0, 229.0, 229.0, 229.0, 229.19, 229.43, 229.5, 230.0, 230.0, 230.0, 230.0, 230.0, 230.0, 230.0, 230.0, 230.0, 230.0, 230.0, 230.0, 230.0, 230.0, 230.0, 230.0, 230.0, 230.0, 230.0, 230.0, 230.0, 230.0, 230.0, 230.0, 230.0, 230.0, 230.0, 230.0, 230.0, 230.0, 230.0, 230.0, 230.0, 230.0, 230.0, 230.0, 230.0, 230.0, 230.0, 230.0, 230.0, 230.0, 230.0, 230.0, 230.0, 230.0, 230.0, 230.0, 230.0, 230.0, 230.0, 230.0, 230.0, 230.0, 230.0, 230.0, 230.0, 230.0, 230.0, 230.0, 230.0, 230.0, 230.0, 230.0, 230.0, 230.0, 230.0, 230.0, 230.0, 230.0, 230.0, 230.0, 230.0, 230.0, 230.0, 230.0, 230.0, 230.0, 230.0, 230.0, 230.0, 230.0, 230.35, 230.5, 230.67, 230.84, 230.86, 231.0, 231.0, 231.0, 231.0, 231.0, 231.0, 231.0, 231.0, 231.0, 231.0, 231.0, 231.0, 231.0, 231.0, 231.0, 231.0, 231.0, 231.0, 231.0, 231.17, 231.33, 231.5, 231.5, 231.6, 231.6, 231.6, 231.6, 231.67, 231.69, 231.76, 231.81, 231.84, 231.88, 232.0, 232.0, 232.0, 232.0, 232.0, 232.0, 232.0, 232.0, 232.0, 232.0, 232.0, 232.25, 232.33, 232.33, 232.33, 232.5, 232.57, 232.6, 232.67, 233.0, 233.0, 233.0, 233.0, 233.0, 233.0, 233.0, 233.05, 233.1, 233.1, 233.1, 233.1, 233.13, 233.33, 233.33, 233.33, 233.33, 233.6, 233.75, 234.0, 234.0, 234.0, 234.0, 234.0, 234.0, 234.0, 234.0, 234.0, 234.0, 234.0, 234.0, 234.0, 234.0, 234.0, 234.17, 234.29, 234.29, 234.33, 234.5, 234.5, 234.56, 234.6, 234.6, 234.7, 234.96, 235.0, 235.0, 235.0, 235.0, 235.0, 235.0, 235.0, 235.0, 235.0, 235.0, 235.0, 235.0, 235.0, 235.0, 235.0, 235.0, 235.5, 235.57, 235.6, 235.6, 235.67, 235.71, 235.8, 235.94, 235.95, 236.0, 236.0, 236.0, 236.0, 236.0, 236.0, 236.0, 236.0, 236.14, 236.33, 236.67, 236.67, 236.71, 236.86, 236.93, 236.93, 237.0, 237.0, 237.0, 237.0, 237.2, 237.33, 237.33, 237.5, 237.5, 237.6, 237.71, 237.75, 237.75, 238.0, 238.0, 238.0, 238.0, 238.0, 238.1, 238.15, 238.16, 238.3, 238.4, 238.71, 238.75, 239.0, 239.0, 239.0, 239.0, 239.0, 239.0, 239.0, 239.0, 239.0, 239.0, 239.0, 239.0, 239.0, 239.0, 239.0, 239.0, 239.0, 239.0, 239.0, 239.0, 239.0, 239.08, 239.1, 239.14, 239.6, 239.64, 240.0, 240.0, 240.0, 240.0, 240.0, 240.0, 240.0, 240.0, 240.0, 240.0, 240.0, 240.0, 240.0, 240.0, 240.0, 240.0, 240.0, 240.0, 240.0, 240.0, 240.0, 240.0, 240.0, 240.3, 240.3, 240.3, 240.37, 240.57, 240.86, 241.0, 241.0, 241.0, 241.0, 241.0, 241.0, 241.0, 241.0, 241.0, 241.0, 241.0, 241.0, 241.0, 241.0, 241.0, 241.0, 241.0, 241.0, 241.0, 241.0, 241.0, 241.48, 241.59, 241.6, 242.0, 242.0, 242.0, 242.0, 242.0, 242.0, 242.33, 242.33, 242.57, 242.67, 242.75, 242.86, 242.9, 243.0, 243.0, 243.0, 243.0, 243.0, 243.0, 243.33, 243.33, 243.63, 243.63, 243.67, 243.81, 243.81, 244.0, 244.0, 244.0, 244.0, 244.0, 244.0, 244.0, 244.0, 244.0, 244.0, 244.0, 244.0, 244.0, 244.0, 244.0, 244.0, 244.0, 244.0, 244.0, 244.0, 244.0, 244.0, 244.16, 244.31, 244.5, 244.72, 244.86, 245.0, 245.0, 245.0, 245.0, 245.0, 245.0, 245.0, 245.0, 245.0, 245.0, 245.0, 245.0, 245.1, 245.3, 245.33, 245.33, 245.33, 245.43, 245.5, 245.67, 245.95, 246.0, 246.0, 246.0, 246.0, 246.0, 246.0, 246.02, 246.43, 246.5, 246.55, 246.6, 246.67, 246.8, 247.0, 247.0, 247.0, 247.0, 247.0, 247.0, 247.33, 247.33, 247.5, 247.57, 247.65, 248.0, 248.0, 248.0, 248.0, 248.0, 248.1, 248.1, 248.16, 248.29, 248.33, 248.5, 248.5, 248.75, 248.89, 249.0, 249.0, 249.0, 249.0, 249.0, 249.0, 249.0, 249.0, 249.0, 249.0, 249.0, 249.0, 249.0, 249.0, 249.0, 249.5, 249.5, 249.63, 250.0, 250.0, 250.0, 250.0, 250.0, 250.0, 250.0, 250.0, 250.0, 250.0, 250.0, 250.0, 250.0, 250.0, 250.0, 250.0, 250.0, 250.0, 250.0, 250.0, 250.0, 250.0, 250.0, 250.0, 250.0, 250.0, 250.0, 250.0, 250.0, 250.0, 250.0, 250.0, 250.0, 250.0, 250.0, 250.2, 250.32, 250.5, 250.96, 250.96, 251.0, 251.0, 251.0, 251.0, 251.0, 251.0, 251.0, 251.0, 251.43, 251.5, 251.7, 251.7, 251.73, 251.83, 251.86, 252.0, 252.0, 252.0, 252.0, 252.0, 252.0, 252.0, 252.0, 252.0, 252.0, 252.0, 252.0, 252.0, 252.0, 252.17, 252.33, 252.6, 252.67, 252.9, 253.0, 253.0, 253.0, 253.0, 253.0, 253.0, 253.25, 253.5, 253.54, 253.6, 253.67, 253.8, 253.8, 254.0, 254.0, 254.0, 254.0, 254.0, 254.0, 254.5, 254.62, 254.96, 255.0, 255.0, 255.0, 255.0, 255.0, 255.0, 255.0, 255.0, 255.0, 255.45, 256.0, 256.0, 256.0, 256.0, 256.0, 256.5, 256.5, 256.5, 256.5, 256.5, 256.67, 256.72, 257.0, 257.0, 257.0, 257.0, 257.5, 257.55, 257.6, 257.67, 258.0, 258.0, 258.0, 258.0, 258.0, 258.0, 258.0, 258.0, 258.27, 258.43, 259.0, 259.0, 259.0, 259.0, 259.0, 259.0, 259.0, 259.0, 259.0, 259.0, 259.0, 259.0, 259.0, 259.0, 259.0, 259.0, 259.0, 259.29, 259.33, 259.86, 260.0, 260.0, 260.0, 260.0, 260.0, 260.0, 260.0, 260.0, 260.0, 260.0, 260.0, 260.0, 260.0, 260.0, 260.5, 260.5, 260.71, 260.9, 261.0, 261.0, 261.0, 261.0, 261.25, 261.4, 262.0, 262.0, 262.0, 262.0, 262.0, 262.0, 262.0, 262.0, 262.0, 262.0, 262.0, 262.0, 262.0, 262.0, 262.5, 262.6, 263.0, 263.0, 264.0, 264.0, 264.0, 264.0, 264.0, 264.0, 264.0, 264.0, 264.5, 264.6, 265.0, 265.0, 265.0, 265.0, 265.0, 265.0, 265.44, 265.83, 265.93, 266.0, 266.0, 266.3, 266.4, 266.5, 266.67, 266.96, 267.0, 267.0, 267.0, 267.5, 268.0, 268.0, 268.3, 268.33, 268.33, 269.0, 269.0, 269.0, 269.0, 269.0, 269.0, 269.0, 269.0, 269.0, 269.43, 269.5, 270.0, 270.0, 270.0, 270.0, 270.0, 270.0, 270.0, 270.0, 270.0, 270.0, 270.0, 270.0, 270.0, 270.0, 270.0, 270.0, 270.0, 270.5, 270.5, 271.0, 271.0, 271.0, 271.0, 271.0, 271.0, 271.0, 271.0, 271.0, 271.0, 271.0, 272.0, 272.0, 272.0, 272.5, 272.5, 272.7, 273.0, 273.13, 273.7, 274.0, 274.0, 274.0, 274.0, 274.0, 274.0, 274.0, 274.0, 274.2, 274.45, 274.5, 274.5, 274.67, 274.93, 275.0, 275.0, 275.0, 275.0, 275.0, 275.0, 275.33, 275.9, 276.0, 276.53, 276.6, 276.6, 276.83, 277.0, 277.0, 277.0, 277.5, 277.5, 277.67, 277.67, 278.0, 278.0, 278.0, 278.14, 278.9, 279.0, 279.0, 279.0, 279.0, 279.03, 279.2, 279.5, 280.0, 280.0, 280.0, 280.33, 280.74, 281.0, 281.0, 281.0, 281.0, 281.0, 282.0, 282.0, 282.29, 282.5, 283.0, 283.0, 283.0, 283.0, 283.2, 283.32, 283.5, 283.67, 284.0, 284.0, 284.0, 284.2, 284.2, 284.86, 284.86, 286.0, 286.6, 286.79, 287.0, 287.0, 287.0, 287.5, 288.0, 288.0, 288.0, 288.0, 288.1, 288.1, 289.0, 289.0, 289.0, 289.6, 289.8, 289.8, 289.88, 289.9, 290.0, 290.0, 290.0, 292.0, 292.0, 292.0, 292.4, 293.0, 293.0, 293.33, 293.86, 294.0, 294.0, 294.0, 294.5, 294.86, 295.0, 295.0, 295.0, 295.0, 295.0, 295.0, 295.0, 295.0, 295.0, 295.0, 296.0, 296.5, 296.75, 297.0, 298.0, 298.71, 299.0, 299.0, 299.0, 299.0, 299.0, 299.0, 299.2, 299.43, 300.0, 300.0, 300.0, 300.0, 300.0, 300.0, 300.0, 300.4, 301.2, 302.0, 302.86, 303.0, 303.0, 304.0, 304.0, 305.0, 305.0, 305.0, 305.0, 305.0, 305.0, 305.0, 305.0, 306.0, 306.0, 306.0, 307.0, 307.0, 307.67, 308.0, 308.0, 309.0, 310.0, 310.0, 310.0, 310.0, 310.2, 310.75, 311.0, 311.0, 311.0, 311.0, 311.25, 311.5, 312.29, 313.67, 314.0, 314.5, 314.67, 315.0, 315.0, 315.0, 315.0, 315.0, 315.38, 317.0, 317.0, 317.0, 317.0, 317.67, 318.0, 318.0, 318.0, 320.7, 321.5, 322.0, 322.0, 322.0, 322.0, 323.0, 324.0, 324.0, 324.5, 325.0, 325.0, 326.5, 326.71, 327.4, 328.0, 328.33, 329.0, 330.0, 330.0, 331.43, 332.0, 333.67, 334.43, 335.0, 335.0, 336.0, 337.0, 338.0, 338.0, 339.4, 340.0, 340.0, 340.0, 341.0, 341.0, 342.29, 343.0, 344.67, 349.0, 349.67, 351.0, 352.0, 352.5, 353.67, 354.0, 357.0, 359.0, 359.5, 360.0, 363.0, 367.0, 368.1, 372.71, 377.0, 378.0, 378.0, 378.0, 378.0, 383.0, 384.0, 392.0, 397.38, 426.25, 437.0, 451.5, 508.0]\n"
          ]
        }
      ]
    },
    {
      "cell_type": "code",
      "metadata": {
        "colab": {
          "base_uri": "https://localhost:8080/",
          "height": 265
        },
        "id": "eNsSp_4QJeWF",
        "outputId": "e2116cc1-a3f6-4807-871e-9e1f67f8b3c6"
      },
      "source": [
        "df = df[df['adr']<211.25]\n",
        "df['adr'].plot(kind='box', showfliers=False)\n",
        "plt.show()"
      ],
      "execution_count": null,
      "outputs": [
        {
          "output_type": "display_data",
          "data": {
            "image/png": "[encoded data removed]",
            "text/plain": [
              "<Figure size 432x288 with 1 Axes>"
            ]
          },
          "metadata": {
            "needs_background": "light"
          }
        }
      ]
    },
    {
      "cell_type": "markdown",
      "metadata": {
        "id": "koSpUbFDe_Qk"
      },
      "source": [
        "### C. Handling Duplicates"
      ]
    },
    {
      "cell_type": "code",
      "metadata": {
        "colab": {
          "base_uri": "https://localhost:8080/"
        },
        "id": "JXMS2PXeEdKO",
        "outputId": "0494bcf3-c57e-46d9-e924-9d8289886c94"
      },
      "source": [
        "df.duplicated().any()"
      ],
      "execution_count": null,
      "outputs": [
        {
          "output_type": "execute_result",
          "data": {
            "text/plain": [
              "True"
            ]
          },
          "metadata": {},
          "execution_count": 351
        }
      ]
    },
    {
      "cell_type": "code",
      "metadata": {
        "colab": {
          "base_uri": "https://localhost:8080/"
        },
        "id": "kR-XTOW8q-Mb",
        "outputId": "1c7e5a6e-c4c9-431e-f21b-2bf1c032d473"
      },
      "source": [
        "df.duplicated().sum()"
      ],
      "execution_count": null,
      "outputs": [
        {
          "output_type": "execute_result",
          "data": {
            "text/plain": [
              "9777"
            ]
          },
          "metadata": {},
          "execution_count": 352
        }
      ]
    },
    {
      "cell_type": "code",
      "metadata": {
        "colab": {
          "base_uri": "https://localhost:8080/",
          "height": 609
        },
        "id": "pYcjuX9ErI8H",
        "outputId": "18e5ed6e-9aeb-408e-dbb6-b12ce0c56150"
      },
      "source": [
        "df[df.duplicated()]"
      ],
      "execution_count": null,
      "outputs": [
        {
          "output_type": "execute_result",
          "data": {
            "text/html": [
              "<div>\n",
              "<style scoped>\n",
              "    .dataframe tbody tr th:only-of-type {\n",
              "        vertical-align: middle;\n",
              "    }\n",
              "\n",
              "    .dataframe tbody tr th {\n",
              "        vertical-align: top;\n",
              "    }\n",
              "\n",
              "    .dataframe thead th {\n",
              "        text-align: right;\n",
              "    }\n",
              "</style>\n",
              "<table border=\"1\" class=\"dataframe\">\n",
              "  <thead>\n",
              "    <tr style=\"text-align: right;\">\n",
              "      <th></th>\n",
              "      <th>hotel</th>\n",
              "      <th>is_canceled</th>\n",
              "      <th>lead_time</th>\n",
              "      <th>arrival_date_year</th>\n",
              "      <th>arrival_date_month</th>\n",
              "      <th>arrival_date_week_number</th>\n",
              "      <th>arrival_date_day_of_month</th>\n",
              "      <th>stays_in_weekend_nights</th>\n",
              "      <th>stays_in_week_nights</th>\n",
              "      <th>adults</th>\n",
              "      <th>children</th>\n",
              "      <th>babies</th>\n",
              "      <th>meal</th>\n",
              "      <th>country</th>\n",
              "      <th>market_segment</th>\n",
              "      <th>distribution_channel</th>\n",
              "      <th>is_repeated_guest</th>\n",
              "      <th>previous_cancellations</th>\n",
              "      <th>previous_bookings_not_canceled</th>\n",
              "      <th>reserved_room_type</th>\n",
              "      <th>assigned_room_type</th>\n",
              "      <th>booking_changes</th>\n",
              "      <th>deposit_type</th>\n",
              "      <th>agent</th>\n",
              "      <th>company</th>\n",
              "      <th>days_in_waiting_list</th>\n",
              "      <th>customer_type</th>\n",
              "      <th>adr</th>\n",
              "      <th>required_car_parking_spaces</th>\n",
              "      <th>total_of_special_requests</th>\n",
              "      <th>reservation_status</th>\n",
              "      <th>reservation_status_date</th>\n",
              "    </tr>\n",
              "  </thead>\n",
              "  <tbody>\n",
              "    <tr>\n",
              "      <th>44455</th>\n",
              "      <td>City Hotel</td>\n",
              "      <td>1</td>\n",
              "      <td>97</td>\n",
              "      <td>2015</td>\n",
              "      <td>October</td>\n",
              "      <td>41</td>\n",
              "      <td>5</td>\n",
              "      <td>1</td>\n",
              "      <td>3</td>\n",
              "      <td>1</td>\n",
              "      <td>0.0</td>\n",
              "      <td>0</td>\n",
              "      <td>BB</td>\n",
              "      <td>PRT</td>\n",
              "      <td>Groups</td>\n",
              "      <td>TA/TO</td>\n",
              "      <td>0</td>\n",
              "      <td>0</td>\n",
              "      <td>0</td>\n",
              "      <td>A</td>\n",
              "      <td>A</td>\n",
              "      <td>0</td>\n",
              "      <td>Non Refund</td>\n",
              "      <td>29.0</td>\n",
              "      <td>40.0</td>\n",
              "      <td>0</td>\n",
              "      <td>Transient</td>\n",
              "      <td>140.00</td>\n",
              "      <td>0</td>\n",
              "      <td>0</td>\n",
              "      <td>Canceled</td>\n",
              "      <td>2015-07-03</td>\n",
              "    </tr>\n",
              "    <tr>\n",
              "      <th>44430</th>\n",
              "      <td>City Hotel</td>\n",
              "      <td>1</td>\n",
              "      <td>97</td>\n",
              "      <td>2015</td>\n",
              "      <td>October</td>\n",
              "      <td>41</td>\n",
              "      <td>5</td>\n",
              "      <td>1</td>\n",
              "      <td>3</td>\n",
              "      <td>1</td>\n",
              "      <td>0.0</td>\n",
              "      <td>0</td>\n",
              "      <td>BB</td>\n",
              "      <td>PRT</td>\n",
              "      <td>Groups</td>\n",
              "      <td>TA/TO</td>\n",
              "      <td>0</td>\n",
              "      <td>0</td>\n",
              "      <td>0</td>\n",
              "      <td>A</td>\n",
              "      <td>A</td>\n",
              "      <td>0</td>\n",
              "      <td>Non Refund</td>\n",
              "      <td>29.0</td>\n",
              "      <td>40.0</td>\n",
              "      <td>0</td>\n",
              "      <td>Transient</td>\n",
              "      <td>140.00</td>\n",
              "      <td>0</td>\n",
              "      <td>0</td>\n",
              "      <td>Canceled</td>\n",
              "      <td>2015-07-03</td>\n",
              "    </tr>\n",
              "    <tr>\n",
              "      <th>60182</th>\n",
              "      <td>City Hotel</td>\n",
              "      <td>1</td>\n",
              "      <td>277</td>\n",
              "      <td>2016</td>\n",
              "      <td>November</td>\n",
              "      <td>46</td>\n",
              "      <td>7</td>\n",
              "      <td>1</td>\n",
              "      <td>2</td>\n",
              "      <td>2</td>\n",
              "      <td>0.0</td>\n",
              "      <td>0</td>\n",
              "      <td>BB</td>\n",
              "      <td>PRT</td>\n",
              "      <td>Groups</td>\n",
              "      <td>TA/TO</td>\n",
              "      <td>0</td>\n",
              "      <td>0</td>\n",
              "      <td>0</td>\n",
              "      <td>A</td>\n",
              "      <td>A</td>\n",
              "      <td>0</td>\n",
              "      <td>Non Refund</td>\n",
              "      <td>9.0</td>\n",
              "      <td>40.0</td>\n",
              "      <td>0</td>\n",
              "      <td>Transient</td>\n",
              "      <td>100.00</td>\n",
              "      <td>0</td>\n",
              "      <td>0</td>\n",
              "      <td>Canceled</td>\n",
              "      <td>2016-04-04</td>\n",
              "    </tr>\n",
              "    <tr>\n",
              "      <th>76059</th>\n",
              "      <td>City Hotel</td>\n",
              "      <td>1</td>\n",
              "      <td>364</td>\n",
              "      <td>2015</td>\n",
              "      <td>October</td>\n",
              "      <td>42</td>\n",
              "      <td>16</td>\n",
              "      <td>0</td>\n",
              "      <td>2</td>\n",
              "      <td>2</td>\n",
              "      <td>0.0</td>\n",
              "      <td>0</td>\n",
              "      <td>HB</td>\n",
              "      <td>PRT</td>\n",
              "      <td>Offline TA/TO</td>\n",
              "      <td>TA/TO</td>\n",
              "      <td>0</td>\n",
              "      <td>1</td>\n",
              "      <td>0</td>\n",
              "      <td>A</td>\n",
              "      <td>A</td>\n",
              "      <td>0</td>\n",
              "      <td>Non Refund</td>\n",
              "      <td>6.0</td>\n",
              "      <td>40.0</td>\n",
              "      <td>0</td>\n",
              "      <td>Transient-Party</td>\n",
              "      <td>101.50</td>\n",
              "      <td>0</td>\n",
              "      <td>0</td>\n",
              "      <td>Canceled</td>\n",
              "      <td>2015-07-06</td>\n",
              "    </tr>\n",
              "    <tr>\n",
              "      <th>5178</th>\n",
              "      <td>Resort Hotel</td>\n",
              "      <td>1</td>\n",
              "      <td>32</td>\n",
              "      <td>2016</td>\n",
              "      <td>April</td>\n",
              "      <td>17</td>\n",
              "      <td>19</td>\n",
              "      <td>2</td>\n",
              "      <td>5</td>\n",
              "      <td>2</td>\n",
              "      <td>0.0</td>\n",
              "      <td>0</td>\n",
              "      <td>HB</td>\n",
              "      <td>PRT</td>\n",
              "      <td>Groups</td>\n",
              "      <td>Direct</td>\n",
              "      <td>0</td>\n",
              "      <td>0</td>\n",
              "      <td>0</td>\n",
              "      <td>D</td>\n",
              "      <td>D</td>\n",
              "      <td>0</td>\n",
              "      <td>No Deposit</td>\n",
              "      <td>273.0</td>\n",
              "      <td>40.0</td>\n",
              "      <td>0</td>\n",
              "      <td>Transient-Party</td>\n",
              "      <td>69.36</td>\n",
              "      <td>0</td>\n",
              "      <td>0</td>\n",
              "      <td>Canceled</td>\n",
              "      <td>2016-03-18</td>\n",
              "    </tr>\n",
              "    <tr>\n",
              "      <th>...</th>\n",
              "      <td>...</td>\n",
              "      <td>...</td>\n",
              "      <td>...</td>\n",
              "      <td>...</td>\n",
              "      <td>...</td>\n",
              "      <td>...</td>\n",
              "      <td>...</td>\n",
              "      <td>...</td>\n",
              "      <td>...</td>\n",
              "      <td>...</td>\n",
              "      <td>...</td>\n",
              "      <td>...</td>\n",
              "      <td>...</td>\n",
              "      <td>...</td>\n",
              "      <td>...</td>\n",
              "      <td>...</td>\n",
              "      <td>...</td>\n",
              "      <td>...</td>\n",
              "      <td>...</td>\n",
              "      <td>...</td>\n",
              "      <td>...</td>\n",
              "      <td>...</td>\n",
              "      <td>...</td>\n",
              "      <td>...</td>\n",
              "      <td>...</td>\n",
              "      <td>...</td>\n",
              "      <td>...</td>\n",
              "      <td>...</td>\n",
              "      <td>...</td>\n",
              "      <td>...</td>\n",
              "      <td>...</td>\n",
              "      <td>...</td>\n",
              "    </tr>\n",
              "    <tr>\n",
              "      <th>43508</th>\n",
              "      <td>City Hotel</td>\n",
              "      <td>1</td>\n",
              "      <td>19</td>\n",
              "      <td>2015</td>\n",
              "      <td>September</td>\n",
              "      <td>38</td>\n",
              "      <td>19</td>\n",
              "      <td>0</td>\n",
              "      <td>1</td>\n",
              "      <td>2</td>\n",
              "      <td>0.0</td>\n",
              "      <td>0</td>\n",
              "      <td>BB</td>\n",
              "      <td>PRT</td>\n",
              "      <td>Online TA</td>\n",
              "      <td>TA/TO</td>\n",
              "      <td>0</td>\n",
              "      <td>0</td>\n",
              "      <td>0</td>\n",
              "      <td>A</td>\n",
              "      <td>A</td>\n",
              "      <td>0</td>\n",
              "      <td>No Deposit</td>\n",
              "      <td>9.0</td>\n",
              "      <td>40.0</td>\n",
              "      <td>0</td>\n",
              "      <td>Contract</td>\n",
              "      <td>124.00</td>\n",
              "      <td>0</td>\n",
              "      <td>2</td>\n",
              "      <td>Canceled</td>\n",
              "      <td>2015-09-12</td>\n",
              "    </tr>\n",
              "    <tr>\n",
              "      <th>91111</th>\n",
              "      <td>City Hotel</td>\n",
              "      <td>0</td>\n",
              "      <td>28</td>\n",
              "      <td>2016</td>\n",
              "      <td>June</td>\n",
              "      <td>25</td>\n",
              "      <td>14</td>\n",
              "      <td>0</td>\n",
              "      <td>3</td>\n",
              "      <td>1</td>\n",
              "      <td>0.0</td>\n",
              "      <td>0</td>\n",
              "      <td>BB</td>\n",
              "      <td>NLD</td>\n",
              "      <td>Online TA</td>\n",
              "      <td>TA/TO</td>\n",
              "      <td>0</td>\n",
              "      <td>0</td>\n",
              "      <td>0</td>\n",
              "      <td>D</td>\n",
              "      <td>D</td>\n",
              "      <td>0</td>\n",
              "      <td>No Deposit</td>\n",
              "      <td>7.0</td>\n",
              "      <td>40.0</td>\n",
              "      <td>0</td>\n",
              "      <td>Transient</td>\n",
              "      <td>108.42</td>\n",
              "      <td>0</td>\n",
              "      <td>1</td>\n",
              "      <td>Check-Out</td>\n",
              "      <td>2016-06-17</td>\n",
              "    </tr>\n",
              "    <tr>\n",
              "      <th>65315</th>\n",
              "      <td>City Hotel</td>\n",
              "      <td>1</td>\n",
              "      <td>80</td>\n",
              "      <td>2017</td>\n",
              "      <td>March</td>\n",
              "      <td>13</td>\n",
              "      <td>31</td>\n",
              "      <td>0</td>\n",
              "      <td>2</td>\n",
              "      <td>2</td>\n",
              "      <td>0.0</td>\n",
              "      <td>0</td>\n",
              "      <td>BB</td>\n",
              "      <td>PRT</td>\n",
              "      <td>Offline TA/TO</td>\n",
              "      <td>TA/TO</td>\n",
              "      <td>0</td>\n",
              "      <td>0</td>\n",
              "      <td>0</td>\n",
              "      <td>A</td>\n",
              "      <td>A</td>\n",
              "      <td>0</td>\n",
              "      <td>Non Refund</td>\n",
              "      <td>56.0</td>\n",
              "      <td>40.0</td>\n",
              "      <td>0</td>\n",
              "      <td>Transient</td>\n",
              "      <td>90.00</td>\n",
              "      <td>0</td>\n",
              "      <td>0</td>\n",
              "      <td>Canceled</td>\n",
              "      <td>2017-01-10</td>\n",
              "    </tr>\n",
              "    <tr>\n",
              "      <th>77053</th>\n",
              "      <td>City Hotel</td>\n",
              "      <td>1</td>\n",
              "      <td>262</td>\n",
              "      <td>2015</td>\n",
              "      <td>November</td>\n",
              "      <td>46</td>\n",
              "      <td>9</td>\n",
              "      <td>1</td>\n",
              "      <td>2</td>\n",
              "      <td>2</td>\n",
              "      <td>0.0</td>\n",
              "      <td>0</td>\n",
              "      <td>BB</td>\n",
              "      <td>PRT</td>\n",
              "      <td>Groups</td>\n",
              "      <td>TA/TO</td>\n",
              "      <td>0</td>\n",
              "      <td>1</td>\n",
              "      <td>0</td>\n",
              "      <td>A</td>\n",
              "      <td>A</td>\n",
              "      <td>0</td>\n",
              "      <td>Non Refund</td>\n",
              "      <td>1.0</td>\n",
              "      <td>40.0</td>\n",
              "      <td>0</td>\n",
              "      <td>Transient</td>\n",
              "      <td>62.80</td>\n",
              "      <td>0</td>\n",
              "      <td>0</td>\n",
              "      <td>Canceled</td>\n",
              "      <td>2015-09-04</td>\n",
              "    </tr>\n",
              "    <tr>\n",
              "      <th>45898</th>\n",
              "      <td>City Hotel</td>\n",
              "      <td>0</td>\n",
              "      <td>84</td>\n",
              "      <td>2015</td>\n",
              "      <td>November</td>\n",
              "      <td>48</td>\n",
              "      <td>27</td>\n",
              "      <td>1</td>\n",
              "      <td>2</td>\n",
              "      <td>2</td>\n",
              "      <td>0.0</td>\n",
              "      <td>0</td>\n",
              "      <td>BB</td>\n",
              "      <td>PRT</td>\n",
              "      <td>Groups</td>\n",
              "      <td>TA/TO</td>\n",
              "      <td>0</td>\n",
              "      <td>0</td>\n",
              "      <td>0</td>\n",
              "      <td>A</td>\n",
              "      <td>A</td>\n",
              "      <td>0</td>\n",
              "      <td>No Deposit</td>\n",
              "      <td>1.0</td>\n",
              "      <td>40.0</td>\n",
              "      <td>0</td>\n",
              "      <td>Transient-Party</td>\n",
              "      <td>64.00</td>\n",
              "      <td>0</td>\n",
              "      <td>0</td>\n",
              "      <td>Check-Out</td>\n",
              "      <td>2015-11-30</td>\n",
              "    </tr>\n",
              "  </tbody>\n",
              "</table>\n",
              "<p>9777 rows × 32 columns</p>\n",
              "</div>"
            ],
            "text/plain": [
              "              hotel  is_canceled  ...  reservation_status  reservation_status_date\n",
              "44455    City Hotel            1  ...            Canceled               2015-07-03\n",
              "44430    City Hotel            1  ...            Canceled               2015-07-03\n",
              "60182    City Hotel            1  ...            Canceled               2016-04-04\n",
              "76059    City Hotel            1  ...            Canceled               2015-07-06\n",
              "5178   Resort Hotel            1  ...            Canceled               2016-03-18\n",
              "...             ...          ...  ...                 ...                      ...\n",
              "43508    City Hotel            1  ...            Canceled               2015-09-12\n",
              "91111    City Hotel            0  ...           Check-Out               2016-06-17\n",
              "65315    City Hotel            1  ...            Canceled               2017-01-10\n",
              "77053    City Hotel            1  ...            Canceled               2015-09-04\n",
              "45898    City Hotel            0  ...           Check-Out               2015-11-30\n",
              "\n",
              "[9777 rows x 32 columns]"
            ]
          },
          "metadata": {},
          "execution_count": 353
        }
      ]
    },
    {
      "cell_type": "code",
      "metadata": {
        "id": "LTwL7zH1raCq"
      },
      "source": [
        "df.drop_duplicates(inplace=True)"
      ],
      "execution_count": null,
      "outputs": []
    },
    {
      "cell_type": "code",
      "metadata": {
        "colab": {
          "base_uri": "https://localhost:8080/"
        },
        "id": "1oCaoyJoEkRe",
        "outputId": "9f756f2d-0125-4e78-af4b-4e66c80c74bf"
      },
      "source": [
        "df.duplicated().any()"
      ],
      "execution_count": null,
      "outputs": [
        {
          "output_type": "execute_result",
          "data": {
            "text/plain": [
              "False"
            ]
          },
          "metadata": {},
          "execution_count": 355
        }
      ]
    },
    {
      "cell_type": "code",
      "metadata": {
        "colab": {
          "base_uri": "https://localhost:8080/"
        },
        "id": "_iqFAi1-rgZJ",
        "outputId": "7aea6a92-0976-4e84-d60d-433d73e3511e"
      },
      "source": [
        "df.duplicated().sum()"
      ],
      "execution_count": null,
      "outputs": [
        {
          "output_type": "execute_result",
          "data": {
            "text/plain": [
              "0"
            ]
          },
          "metadata": {},
          "execution_count": 356
        }
      ]
    },
    {
      "cell_type": "markdown",
      "metadata": {
        "id": "SukO4B1rfEDb"
      },
      "source": [
        "### D. Handling Data Type Errors"
      ]
    },
    {
      "cell_type": "code",
      "metadata": {
        "id": "hfydpsNlf8li"
      },
      "source": [
        "df['children'] = df['children'].astype(int)\n",
        "df['agent'] = df['agent'].astype(int)\n",
        "df['company'] = df['company'].astype(int)\n",
        "df['adr'] = df['adr'].astype(int)"
      ],
      "execution_count": null,
      "outputs": []
    },
    {
      "cell_type": "code",
      "metadata": {
        "id": "4ykrmdQkY22k"
      },
      "source": [
        "hotel_to_number = {'Resort Hotel':'0', 'City Hotel':'1'}\n",
        "df.hotel = df.hotel.map(hotel_to_number).astype(int)"
      ],
      "execution_count": null,
      "outputs": []
    },
    {
      "cell_type": "code",
      "metadata": {
        "id": "Qrru3fPzYrkv"
      },
      "source": [
        "month_to_number = {'January':'01', 'February':'02', 'March':'03', 'April':'04', 'May':'05', 'June':'06', 'July':'07', 'August':'08', 'September':'09', 'October':'10', 'November':'11', 'December':'12'}\n",
        "df.arrival_date_month = df.arrival_date_month.map(month_to_number).astype(int)"
      ],
      "execution_count": null,
      "outputs": []
    },
    {
      "cell_type": "code",
      "metadata": {
        "id": "75u0sVWEpNHS"
      },
      "source": [
        "df['country'] = df['country'].astype('category').cat.codes"
      ],
      "execution_count": null,
      "outputs": []
    },
    {
      "cell_type": "code",
      "metadata": {
        "id": "uO2m0nvTpSjs"
      },
      "source": [
        "df['market_segment'] = df['market_segment'].astype('category').cat.codes"
      ],
      "execution_count": null,
      "outputs": []
    },
    {
      "cell_type": "code",
      "metadata": {
        "id": "Aqs6Msrst6Nl"
      },
      "source": [
        "df['meal'] = df['meal'].astype('category').cat.codes\n",
        "df['distribution_channel'] = df['distribution_channel'].astype('category').cat.codes\n",
        "df['reserved_room_type'] = df['reserved_room_type'].astype('category').cat.codes\n",
        "df['assigned_room_type'] = df['assigned_room_type'].astype('category').cat.codes\n",
        "df['deposit_type'] = df['deposit_type'].astype('category').cat.codes\n",
        "df['customer_type'] = df['customer_type'].astype('category').cat.codes\n",
        "df['reservation_status'] = df['reservation_status'].astype('category').cat.codes\n",
        "df['reservation_status_date'] = df['reservation_status_date'].astype('category').cat.codes"
      ],
      "execution_count": null,
      "outputs": []
    },
    {
      "cell_type": "code",
      "metadata": {
        "id": "mYCGMo3hXLcM"
      },
      "source": [
        "drop = df[['meal', 'distribution_channel', 'reserved_room_type', 'assigned_room_type', 'deposit_type', 'customer_type', 'reservation_status', 'reservation_status_date']]"
      ],
      "execution_count": null,
      "outputs": []
    },
    {
      "cell_type": "code",
      "metadata": {
        "id": "2sHJQEOTxbrr"
      },
      "source": [
        "dfdrop = df.drop(['reservation_status'], axis=1)"
      ],
      "execution_count": null,
      "outputs": []
    },
    {
      "cell_type": "code",
      "metadata": {
        "colab": {
          "base_uri": "https://localhost:8080/",
          "height": 224
        },
        "id": "kbVzjff4iJYY",
        "outputId": "15b5efd3-add7-4a10-d591-2c3a29e0645f"
      },
      "source": [
        "df.head()"
      ],
      "execution_count": null,
      "outputs": [
        {
          "output_type": "execute_result",
          "data": {
            "text/html": [
              "<div>\n",
              "<style scoped>\n",
              "    .dataframe tbody tr th:only-of-type {\n",
              "        vertical-align: middle;\n",
              "    }\n",
              "\n",
              "    .dataframe tbody tr th {\n",
              "        vertical-align: top;\n",
              "    }\n",
              "\n",
              "    .dataframe thead th {\n",
              "        text-align: right;\n",
              "    }\n",
              "</style>\n",
              "<table border=\"1\" class=\"dataframe\">\n",
              "  <thead>\n",
              "    <tr style=\"text-align: right;\">\n",
              "      <th></th>\n",
              "      <th>hotel</th>\n",
              "      <th>is_canceled</th>\n",
              "      <th>lead_time</th>\n",
              "      <th>arrival_date_year</th>\n",
              "      <th>arrival_date_month</th>\n",
              "      <th>arrival_date_week_number</th>\n",
              "      <th>arrival_date_day_of_month</th>\n",
              "      <th>stays_in_weekend_nights</th>\n",
              "      <th>stays_in_week_nights</th>\n",
              "      <th>adults</th>\n",
              "      <th>children</th>\n",
              "      <th>babies</th>\n",
              "      <th>meal</th>\n",
              "      <th>country</th>\n",
              "      <th>market_segment</th>\n",
              "      <th>distribution_channel</th>\n",
              "      <th>is_repeated_guest</th>\n",
              "      <th>previous_cancellations</th>\n",
              "      <th>previous_bookings_not_canceled</th>\n",
              "      <th>reserved_room_type</th>\n",
              "      <th>assigned_room_type</th>\n",
              "      <th>booking_changes</th>\n",
              "      <th>deposit_type</th>\n",
              "      <th>agent</th>\n",
              "      <th>company</th>\n",
              "      <th>days_in_waiting_list</th>\n",
              "      <th>customer_type</th>\n",
              "      <th>adr</th>\n",
              "      <th>required_car_parking_spaces</th>\n",
              "      <th>total_of_special_requests</th>\n",
              "      <th>reservation_status</th>\n",
              "      <th>reservation_status_date</th>\n",
              "    </tr>\n",
              "  </thead>\n",
              "  <tbody>\n",
              "    <tr>\n",
              "      <th>30946</th>\n",
              "      <td>0</td>\n",
              "      <td>0</td>\n",
              "      <td>203</td>\n",
              "      <td>2016</td>\n",
              "      <td>12</td>\n",
              "      <td>49</td>\n",
              "      <td>2</td>\n",
              "      <td>2</td>\n",
              "      <td>5</td>\n",
              "      <td>2</td>\n",
              "      <td>0</td>\n",
              "      <td>0</td>\n",
              "      <td>0</td>\n",
              "      <td>49</td>\n",
              "      <td>3</td>\n",
              "      <td>1</td>\n",
              "      <td>0</td>\n",
              "      <td>0</td>\n",
              "      <td>0</td>\n",
              "      <td>5</td>\n",
              "      <td>5</td>\n",
              "      <td>4</td>\n",
              "      <td>0</td>\n",
              "      <td>250</td>\n",
              "      <td>40</td>\n",
              "      <td>0</td>\n",
              "      <td>2</td>\n",
              "      <td>66</td>\n",
              "      <td>0</td>\n",
              "      <td>0</td>\n",
              "      <td>1</td>\n",
              "      <td>624</td>\n",
              "    </tr>\n",
              "    <tr>\n",
              "      <th>40207</th>\n",
              "      <td>1</td>\n",
              "      <td>1</td>\n",
              "      <td>82</td>\n",
              "      <td>2015</td>\n",
              "      <td>7</td>\n",
              "      <td>29</td>\n",
              "      <td>16</td>\n",
              "      <td>0</td>\n",
              "      <td>3</td>\n",
              "      <td>2</td>\n",
              "      <td>0</td>\n",
              "      <td>0</td>\n",
              "      <td>0</td>\n",
              "      <td>113</td>\n",
              "      <td>6</td>\n",
              "      <td>3</td>\n",
              "      <td>0</td>\n",
              "      <td>0</td>\n",
              "      <td>0</td>\n",
              "      <td>0</td>\n",
              "      <td>0</td>\n",
              "      <td>0</td>\n",
              "      <td>0</td>\n",
              "      <td>9</td>\n",
              "      <td>40</td>\n",
              "      <td>0</td>\n",
              "      <td>2</td>\n",
              "      <td>76</td>\n",
              "      <td>0</td>\n",
              "      <td>0</td>\n",
              "      <td>0</td>\n",
              "      <td>112</td>\n",
              "    </tr>\n",
              "    <tr>\n",
              "      <th>103708</th>\n",
              "      <td>1</td>\n",
              "      <td>0</td>\n",
              "      <td>25</td>\n",
              "      <td>2016</td>\n",
              "      <td>12</td>\n",
              "      <td>53</td>\n",
              "      <td>27</td>\n",
              "      <td>0</td>\n",
              "      <td>3</td>\n",
              "      <td>3</td>\n",
              "      <td>0</td>\n",
              "      <td>0</td>\n",
              "      <td>0</td>\n",
              "      <td>22</td>\n",
              "      <td>5</td>\n",
              "      <td>3</td>\n",
              "      <td>0</td>\n",
              "      <td>0</td>\n",
              "      <td>0</td>\n",
              "      <td>0</td>\n",
              "      <td>9</td>\n",
              "      <td>2</td>\n",
              "      <td>0</td>\n",
              "      <td>220</td>\n",
              "      <td>40</td>\n",
              "      <td>0</td>\n",
              "      <td>3</td>\n",
              "      <td>60</td>\n",
              "      <td>0</td>\n",
              "      <td>1</td>\n",
              "      <td>1</td>\n",
              "      <td>645</td>\n",
              "    </tr>\n",
              "    <tr>\n",
              "      <th>85144</th>\n",
              "      <td>1</td>\n",
              "      <td>0</td>\n",
              "      <td>1</td>\n",
              "      <td>2016</td>\n",
              "      <td>3</td>\n",
              "      <td>11</td>\n",
              "      <td>9</td>\n",
              "      <td>0</td>\n",
              "      <td>1</td>\n",
              "      <td>1</td>\n",
              "      <td>0</td>\n",
              "      <td>0</td>\n",
              "      <td>0</td>\n",
              "      <td>126</td>\n",
              "      <td>6</td>\n",
              "      <td>3</td>\n",
              "      <td>0</td>\n",
              "      <td>0</td>\n",
              "      <td>0</td>\n",
              "      <td>0</td>\n",
              "      <td>0</td>\n",
              "      <td>0</td>\n",
              "      <td>0</td>\n",
              "      <td>9</td>\n",
              "      <td>40</td>\n",
              "      <td>0</td>\n",
              "      <td>3</td>\n",
              "      <td>95</td>\n",
              "      <td>0</td>\n",
              "      <td>0</td>\n",
              "      <td>1</td>\n",
              "      <td>350</td>\n",
              "    </tr>\n",
              "    <tr>\n",
              "      <th>109991</th>\n",
              "      <td>1</td>\n",
              "      <td>0</td>\n",
              "      <td>70</td>\n",
              "      <td>2017</td>\n",
              "      <td>4</td>\n",
              "      <td>16</td>\n",
              "      <td>16</td>\n",
              "      <td>2</td>\n",
              "      <td>2</td>\n",
              "      <td>2</td>\n",
              "      <td>0</td>\n",
              "      <td>0</td>\n",
              "      <td>3</td>\n",
              "      <td>49</td>\n",
              "      <td>6</td>\n",
              "      <td>3</td>\n",
              "      <td>0</td>\n",
              "      <td>0</td>\n",
              "      <td>0</td>\n",
              "      <td>0</td>\n",
              "      <td>0</td>\n",
              "      <td>0</td>\n",
              "      <td>0</td>\n",
              "      <td>9</td>\n",
              "      <td>40</td>\n",
              "      <td>0</td>\n",
              "      <td>2</td>\n",
              "      <td>108</td>\n",
              "      <td>0</td>\n",
              "      <td>0</td>\n",
              "      <td>1</td>\n",
              "      <td>756</td>\n",
              "    </tr>\n",
              "  </tbody>\n",
              "</table>\n",
              "</div>"
            ],
            "text/plain": [
              "        hotel  is_canceled  ...  reservation_status  reservation_status_date\n",
              "30946       0            0  ...                   1                      624\n",
              "40207       1            1  ...                   0                      112\n",
              "103708      1            0  ...                   1                      645\n",
              "85144       1            0  ...                   1                      350\n",
              "109991      1            0  ...                   1                      756\n",
              "\n",
              "[5 rows x 32 columns]"
            ]
          },
          "metadata": {},
          "execution_count": 364
        }
      ]
    },
    {
      "cell_type": "markdown",
      "metadata": {
        "id": "dCqwTf2TfRxq"
      },
      "source": [
        "# Model Building dan Hyperparameter Tuning"
      ]
    },
    {
      "cell_type": "code",
      "metadata": {
        "colab": {
          "base_uri": "https://localhost:8080/"
        },
        "id": "q3zsSOI9pw8F",
        "outputId": "b6841387-1832-49f3-abc3-9174b015520c"
      },
      "source": [
        "df['is_canceled'].value_counts()"
      ],
      "execution_count": null,
      "outputs": [
        {
          "output_type": "execute_result",
          "data": {
            "text/plain": [
              "0    26899\n",
              "1    10514\n",
              "Name: is_canceled, dtype: int64"
            ]
          },
          "metadata": {},
          "execution_count": 365
        }
      ]
    },
    {
      "cell_type": "code",
      "metadata": {
        "id": "1bOGSNZxhZN1"
      },
      "source": [
        "from sklearn.model_selection import train_test_split\n",
        "from sklearn.preprocessing import StandardScaler, MinMaxScaler\n",
        "\n",
        "from sklearn.datasets import load_iris\n",
        "from sklearn.linear_model import LogisticRegression\n",
        "from sklearn.model_selection import train_test_split, cross_val_score, GridSearchCV, RandomizedSearchCV\n",
        "from sklearn.feature_selection import SelectFromModel, SelectPercentile\n",
        "from sklearn.metrics import f1_score, confusion_matrix, precision_score, recall_score, accuracy_score, roc_auc_score, roc_curve, classification_report\n",
        "from sklearn.linear_model import LogisticRegression\n",
        "from sklearn.svm import LinearSVC\n",
        "from sklearn.tree import DecisionTreeClassifier\n",
        "from sklearn.ensemble import RandomForestClassifier\n",
        "from sklearn.neighbors import KNeighborsClassifier\n",
        "\n",
        "from sklearn.naive_bayes import GaussianNB"
      ],
      "execution_count": null,
      "outputs": []
    },
    {
      "cell_type": "code",
      "metadata": {
        "colab": {
          "base_uri": "https://localhost:8080/"
        },
        "id": "cvYB8Tb8f9P1",
        "outputId": "905b74f8-ac19-4005-82dd-ea23944c681a"
      },
      "source": [
        "train_var = dfdrop.drop(['is_canceled'], axis=1)\n",
        "test_var = dfdrop['is_canceled']\n",
        "X_train, X_test, y_train, y_test = train_test_split(train_var, test_var, test_size=0.2)\n",
        "X_train.shape, y_train.shape, X_test.shape, y_test.shape"
      ],
      "execution_count": null,
      "outputs": [
        {
          "output_type": "execute_result",
          "data": {
            "text/plain": [
              "((29930, 30), (29930,), (7483, 30), (7483,))"
            ]
          },
          "metadata": {},
          "execution_count": 382
        }
      ]
    },
    {
      "cell_type": "code",
      "metadata": {
        "id": "L6mOjCBMhpJC"
      },
      "source": [
        "std_scaler = StandardScaler()\n",
        "std_scaler.fit(X_train)\n",
        "X_train_std = std_scaler.transform(X_train)\n",
        "X_test_std = std_scaler.transform(X_test)\n",
        "\n",
        "mm_scaler = MinMaxScaler()\n",
        "mm_scaler.fit(X_train)\n",
        "X_train_mm = mm_scaler.transform(X_train)\n",
        "X_test_mm = mm_scaler.transform(X_test)"
      ],
      "execution_count": null,
      "outputs": []
    },
    {
      "cell_type": "code",
      "metadata": {
        "colab": {
          "base_uri": "https://localhost:8080/"
        },
        "id": "6UX-oLSpiAc0",
        "outputId": "1b8f45b2-aec6-459e-ab7a-8389f39f2e17"
      },
      "source": [
        "logreg = LogisticRegression(max_iter=500).fit(X_train_mm, y_train)\n",
        "scores = cross_val_score(logreg, X_train_mm, y_train, cv=5)\n",
        "logreg_pred = logreg.predict(X_test_mm)\n",
        "print(\"Average cross validation score: {:.3f}\".format(scores.mean()))\n",
        "print(\"Test accuracy: {:.3f}\".format(logreg.score(X_test_mm, y_test)))\n",
        "print(\"F1 score: {:.3f}\".format(f1_score(y_test, logreg_pred)))\n",
        "print(confusion_matrix(y_test, logreg_pred))"
      ],
      "execution_count": null,
      "outputs": [
        {
          "output_type": "stream",
          "name": "stdout",
          "text": [
            "Average cross validation score: 0.885\n",
            "Test accuracy: 0.892\n",
            "F1 score: 0.762\n",
            "[[5386   17]\n",
            " [ 788 1292]]\n"
          ]
        }
      ]
    },
    {
      "cell_type": "code",
      "metadata": {
        "colab": {
          "base_uri": "https://localhost:8080/"
        },
        "id": "zpdUmmIniq_9",
        "outputId": "82aa9b3a-ab22-4be7-d88e-9b2c4b275f46"
      },
      "source": [
        "tree = DecisionTreeClassifier().fit(X_train, y_train)\n",
        "scores = cross_val_score(tree, X_train, y_train, cv=5)\n",
        "tree_pred = tree.predict(X_test)\n",
        "print(\"Average cross validation score: {:.3f}\".format(scores.mean()))\n",
        "print(\"Test accuracy: {:.3f}\".format(tree.score(X_test, y_test)))\n",
        "print(\"F1 score: {:.3f}\".format(f1_score(y_test, tree_pred)))\n",
        "print(confusion_matrix(y_test, tree_pred))"
      ],
      "execution_count": null,
      "outputs": [
        {
          "output_type": "stream",
          "name": "stdout",
          "text": [
            "Average cross validation score: 0.879\n",
            "Test accuracy: 0.885\n",
            "F1 score: 0.795\n",
            "[[4960  443]\n",
            " [ 414 1666]]\n"
          ]
        }
      ]
    },
    {
      "cell_type": "code",
      "metadata": {
        "colab": {
          "base_uri": "https://localhost:8080/"
        },
        "id": "TPU6D-Uqm-Ma",
        "outputId": "f60456b0-c356-4ada-e3fd-39b125d88542"
      },
      "source": [
        "random_forest = RandomForestClassifier().fit(X_train, y_train)\n",
        "scores = cross_val_score(random_forest, X_train, y_train, cv=5)\n",
        "rf_pred = random_forest.predict(X_test)\n",
        "print(\"Average cross validation score: {:.3f}\".format(scores.mean()))\n",
        "print(\"Test accuracy: {:.3f}\".format(random_forest.score(X_test, y_test)))\n",
        "print(\"F1 score: {:.3f}\".format(f1_score(y_test, rf_pred)))\n",
        "print(confusion_matrix(y_test, rf_pred))"
      ],
      "execution_count": null,
      "outputs": [
        {
          "output_type": "stream",
          "name": "stdout",
          "text": [
            "Average cross validation score: 0.906\n",
            "Test accuracy: 0.911\n",
            "F1 score: 0.825\n",
            "[[5253  150]\n",
            " [ 515 1565]]\n"
          ]
        }
      ]
    },
    {
      "cell_type": "code",
      "metadata": {
        "colab": {
          "base_uri": "https://localhost:8080/"
        },
        "id": "DVfNcXWFwLX4",
        "outputId": "166a7337-f355-4b4f-c1ac-a8e7fe130ab0"
      },
      "source": [
        "importances = random_forest.feature_importances_\n",
        "importances"
      ],
      "execution_count": null,
      "outputs": [
        {
          "output_type": "execute_result",
          "data": {
            "text/plain": [
              "array([0.0077755 , 0.11020645, 0.02596362, 0.04125868, 0.06433864,\n",
              "       0.04673154, 0.02002946, 0.03175707, 0.01130772, 0.00518965,\n",
              "       0.00080468, 0.0104293 , 0.07926232, 0.05075957, 0.01045166,\n",
              "       0.00198068, 0.0208558 , 0.00399929, 0.01372667, 0.01842405,\n",
              "       0.01644021, 0.02684713, 0.04317496, 0.00392275, 0.00109188,\n",
              "       0.01664528, 0.06532063, 0.02387154, 0.05039078, 0.1770425 ])"
            ]
          },
          "metadata": {},
          "execution_count": 385
        }
      ]
    },
    {
      "cell_type": "code",
      "metadata": {
        "colab": {
          "base_uri": "https://localhost:8080/",
          "height": 297
        },
        "id": "PQYNYFoQwTqh",
        "outputId": "17df48cf-add3-4683-e961-9a24d743d02d"
      },
      "source": [
        "forest_importances = pd.Series(importances)\n",
        "\n",
        "fig, ax = plt.subplots()\n",
        "forest_importances.plot.bar()\n",
        "ax.set_title(\"Feature importances using MDI\")\n",
        "ax.set_ylabel(\"Mean decrease in impurity\")\n",
        "fig.tight_layout()"
      ],
      "execution_count": null,
      "outputs": [
        {
          "output_type": "display_data",
          "data": {
            "image/png": "[encoded data removed]",
            "text/plain": [
              "<Figure size 432x288 with 1 Axes>"
            ]
          },
          "metadata": {
            "needs_background": "light"
          }
        }
      ]
    },
    {
      "cell_type": "code",
      "metadata": {
        "colab": {
          "base_uri": "https://localhost:8080/"
        },
        "id": "uyZ6k-CEeo-O",
        "outputId": "4f7fe83d-b02f-471a-c89d-6b1e58085d9a"
      },
      "source": [
        "train_var.info()"
      ],
      "execution_count": null,
      "outputs": [
        {
          "output_type": "stream",
          "name": "stdout",
          "text": [
            "<class 'pandas.core.frame.DataFrame'>\n",
            "Int64Index: 37413 entries, 30946 to 72281\n",
            "Data columns (total 30 columns):\n",
            " #   Column                          Non-Null Count  Dtype\n",
            "---  ------                          --------------  -----\n",
            " 0   hotel                           37413 non-null  int64\n",
            " 1   lead_time                       37413 non-null  int64\n",
            " 2   arrival_date_year               37413 non-null  int64\n",
            " 3   arrival_date_month              37413 non-null  int64\n",
            " 4   arrival_date_week_number        37413 non-null  int64\n",
            " 5   arrival_date_day_of_month       37413 non-null  int64\n",
            " 6   stays_in_weekend_nights         37413 non-null  int64\n",
            " 7   stays_in_week_nights            37413 non-null  int64\n",
            " 8   adults                          37413 non-null  int64\n",
            " 9   children                        37413 non-null  int64\n",
            " 10  babies                          37413 non-null  int64\n",
            " 11  meal                            37413 non-null  int8 \n",
            " 12  country                         37413 non-null  int16\n",
            " 13  market_segment                  37413 non-null  int8 \n",
            " 14  distribution_channel            37413 non-null  int8 \n",
            " 15  is_repeated_guest               37413 non-null  int64\n",
            " 16  previous_cancellations          37413 non-null  int64\n",
            " 17  previous_bookings_not_canceled  37413 non-null  int64\n",
            " 18  reserved_room_type              37413 non-null  int8 \n",
            " 19  assigned_room_type              37413 non-null  int8 \n",
            " 20  booking_changes                 37413 non-null  int64\n",
            " 21  deposit_type                    37413 non-null  int8 \n",
            " 22  agent                           37413 non-null  int64\n",
            " 23  company                         37413 non-null  int64\n",
            " 24  days_in_waiting_list            37413 non-null  int64\n",
            " 25  customer_type                   37413 non-null  int8 \n",
            " 26  adr                             37413 non-null  int64\n",
            " 27  required_car_parking_spaces     37413 non-null  int64\n",
            " 28  total_of_special_requests       37413 non-null  int64\n",
            " 29  reservation_status_date         37413 non-null  int16\n",
            "dtypes: int16(2), int64(21), int8(7)\n",
            "memory usage: 6.7 MB\n"
          ]
        }
      ]
    },
    {
      "cell_type": "code",
      "metadata": {
        "colab": {
          "base_uri": "https://localhost:8080/",
          "height": 979
        },
        "id": "R1FjjPJve22H",
        "outputId": "60c296df-a54c-42cf-8fa9-4f92bdcbf7f0"
      },
      "source": [
        "df_temp = pd.DataFrame()\n",
        "df_temp['x'] = train_var.columns\n",
        "df_temp['feature importants'] = importances\n",
        "df_temp = df_temp.sort_values('feature importants', ascending=False)\n",
        "df_temp"
      ],
      "execution_count": null,
      "outputs": [
        {
          "output_type": "execute_result",
          "data": {
            "text/html": [
              "<div>\n",
              "<style scoped>\n",
              "    .dataframe tbody tr th:only-of-type {\n",
              "        vertical-align: middle;\n",
              "    }\n",
              "\n",
              "    .dataframe tbody tr th {\n",
              "        vertical-align: top;\n",
              "    }\n",
              "\n",
              "    .dataframe thead th {\n",
              "        text-align: right;\n",
              "    }\n",
              "</style>\n",
              "<table border=\"1\" class=\"dataframe\">\n",
              "  <thead>\n",
              "    <tr style=\"text-align: right;\">\n",
              "      <th></th>\n",
              "      <th>x</th>\n",
              "      <th>feature importants</th>\n",
              "    </tr>\n",
              "  </thead>\n",
              "  <tbody>\n",
              "    <tr>\n",
              "      <th>29</th>\n",
              "      <td>reservation_status_date</td>\n",
              "      <td>0.177042</td>\n",
              "    </tr>\n",
              "    <tr>\n",
              "      <th>1</th>\n",
              "      <td>lead_time</td>\n",
              "      <td>0.110206</td>\n",
              "    </tr>\n",
              "    <tr>\n",
              "      <th>12</th>\n",
              "      <td>country</td>\n",
              "      <td>0.079262</td>\n",
              "    </tr>\n",
              "    <tr>\n",
              "      <th>26</th>\n",
              "      <td>adr</td>\n",
              "      <td>0.065321</td>\n",
              "    </tr>\n",
              "    <tr>\n",
              "      <th>4</th>\n",
              "      <td>arrival_date_week_number</td>\n",
              "      <td>0.064339</td>\n",
              "    </tr>\n",
              "    <tr>\n",
              "      <th>13</th>\n",
              "      <td>market_segment</td>\n",
              "      <td>0.050760</td>\n",
              "    </tr>\n",
              "    <tr>\n",
              "      <th>28</th>\n",
              "      <td>total_of_special_requests</td>\n",
              "      <td>0.050391</td>\n",
              "    </tr>\n",
              "    <tr>\n",
              "      <th>5</th>\n",
              "      <td>arrival_date_day_of_month</td>\n",
              "      <td>0.046732</td>\n",
              "    </tr>\n",
              "    <tr>\n",
              "      <th>22</th>\n",
              "      <td>agent</td>\n",
              "      <td>0.043175</td>\n",
              "    </tr>\n",
              "    <tr>\n",
              "      <th>3</th>\n",
              "      <td>arrival_date_month</td>\n",
              "      <td>0.041259</td>\n",
              "    </tr>\n",
              "    <tr>\n",
              "      <th>7</th>\n",
              "      <td>stays_in_week_nights</td>\n",
              "      <td>0.031757</td>\n",
              "    </tr>\n",
              "    <tr>\n",
              "      <th>21</th>\n",
              "      <td>deposit_type</td>\n",
              "      <td>0.026847</td>\n",
              "    </tr>\n",
              "    <tr>\n",
              "      <th>2</th>\n",
              "      <td>arrival_date_year</td>\n",
              "      <td>0.025964</td>\n",
              "    </tr>\n",
              "    <tr>\n",
              "      <th>27</th>\n",
              "      <td>required_car_parking_spaces</td>\n",
              "      <td>0.023872</td>\n",
              "    </tr>\n",
              "    <tr>\n",
              "      <th>16</th>\n",
              "      <td>previous_cancellations</td>\n",
              "      <td>0.020856</td>\n",
              "    </tr>\n",
              "    <tr>\n",
              "      <th>6</th>\n",
              "      <td>stays_in_weekend_nights</td>\n",
              "      <td>0.020029</td>\n",
              "    </tr>\n",
              "    <tr>\n",
              "      <th>19</th>\n",
              "      <td>assigned_room_type</td>\n",
              "      <td>0.018424</td>\n",
              "    </tr>\n",
              "    <tr>\n",
              "      <th>25</th>\n",
              "      <td>customer_type</td>\n",
              "      <td>0.016645</td>\n",
              "    </tr>\n",
              "    <tr>\n",
              "      <th>20</th>\n",
              "      <td>booking_changes</td>\n",
              "      <td>0.016440</td>\n",
              "    </tr>\n",
              "    <tr>\n",
              "      <th>18</th>\n",
              "      <td>reserved_room_type</td>\n",
              "      <td>0.013727</td>\n",
              "    </tr>\n",
              "    <tr>\n",
              "      <th>8</th>\n",
              "      <td>adults</td>\n",
              "      <td>0.011308</td>\n",
              "    </tr>\n",
              "    <tr>\n",
              "      <th>14</th>\n",
              "      <td>distribution_channel</td>\n",
              "      <td>0.010452</td>\n",
              "    </tr>\n",
              "    <tr>\n",
              "      <th>11</th>\n",
              "      <td>meal</td>\n",
              "      <td>0.010429</td>\n",
              "    </tr>\n",
              "    <tr>\n",
              "      <th>0</th>\n",
              "      <td>hotel</td>\n",
              "      <td>0.007776</td>\n",
              "    </tr>\n",
              "    <tr>\n",
              "      <th>9</th>\n",
              "      <td>children</td>\n",
              "      <td>0.005190</td>\n",
              "    </tr>\n",
              "    <tr>\n",
              "      <th>17</th>\n",
              "      <td>previous_bookings_not_canceled</td>\n",
              "      <td>0.003999</td>\n",
              "    </tr>\n",
              "    <tr>\n",
              "      <th>23</th>\n",
              "      <td>company</td>\n",
              "      <td>0.003923</td>\n",
              "    </tr>\n",
              "    <tr>\n",
              "      <th>15</th>\n",
              "      <td>is_repeated_guest</td>\n",
              "      <td>0.001981</td>\n",
              "    </tr>\n",
              "    <tr>\n",
              "      <th>24</th>\n",
              "      <td>days_in_waiting_list</td>\n",
              "      <td>0.001092</td>\n",
              "    </tr>\n",
              "    <tr>\n",
              "      <th>10</th>\n",
              "      <td>babies</td>\n",
              "      <td>0.000805</td>\n",
              "    </tr>\n",
              "  </tbody>\n",
              "</table>\n",
              "</div>"
            ],
            "text/plain": [
              "                                 x  feature importants\n",
              "29         reservation_status_date            0.177042\n",
              "1                        lead_time            0.110206\n",
              "12                         country            0.079262\n",
              "26                             adr            0.065321\n",
              "4         arrival_date_week_number            0.064339\n",
              "13                  market_segment            0.050760\n",
              "28       total_of_special_requests            0.050391\n",
              "5        arrival_date_day_of_month            0.046732\n",
              "22                           agent            0.043175\n",
              "3               arrival_date_month            0.041259\n",
              "7             stays_in_week_nights            0.031757\n",
              "21                    deposit_type            0.026847\n",
              "2                arrival_date_year            0.025964\n",
              "27     required_car_parking_spaces            0.023872\n",
              "16          previous_cancellations            0.020856\n",
              "6          stays_in_weekend_nights            0.020029\n",
              "19              assigned_room_type            0.018424\n",
              "25                   customer_type            0.016645\n",
              "20                 booking_changes            0.016440\n",
              "18              reserved_room_type            0.013727\n",
              "8                           adults            0.011308\n",
              "14            distribution_channel            0.010452\n",
              "11                            meal            0.010429\n",
              "0                            hotel            0.007776\n",
              "9                         children            0.005190\n",
              "17  previous_bookings_not_canceled            0.003999\n",
              "23                         company            0.003923\n",
              "15               is_repeated_guest            0.001981\n",
              "24            days_in_waiting_list            0.001092\n",
              "10                          babies            0.000805"
            ]
          },
          "metadata": {},
          "execution_count": 395
        }
      ]
    },
    {
      "cell_type": "code",
      "metadata": {
        "colab": {
          "base_uri": "https://localhost:8080/"
        },
        "id": "U-bbnaWmfooH",
        "outputId": "eb377d38-ad45-41c0-b15d-e1e68be63028"
      },
      "source": [
        "dftest = dfdrop[df_temp['x'][0:12]]\n",
        "train_var = dftest\n",
        "test_var = dfdrop['is_canceled']\n",
        "X_train, X_test, y_train, y_test = train_test_split(train_var, test_var, test_size=0.2)\n",
        "X_train.shape, y_train.shape, X_test.shape, y_test.shape"
      ],
      "execution_count": null,
      "outputs": [
        {
          "output_type": "execute_result",
          "data": {
            "text/plain": [
              "((29930, 12), (29930,), (7483, 12), (7483,))"
            ]
          },
          "metadata": {},
          "execution_count": 399
        }
      ]
    },
    {
      "cell_type": "code",
      "metadata": {
        "colab": {
          "base_uri": "https://localhost:8080/"
        },
        "id": "5qK1IN8OgqcR",
        "outputId": "c5108940-9712-4706-cec2-8f9b03aad35f"
      },
      "source": [
        "random_forest = RandomForestClassifier().fit(X_train, y_train)\n",
        "scores = cross_val_score(random_forest, X_train, y_train, cv=5)\n",
        "rf_pred = random_forest.predict(X_test)\n",
        "print(\"Average cross validation score: {:.3f}\".format(scores.mean()))\n",
        "print(\"Test accuracy: {:.3f}\".format(random_forest.score(X_test, y_test)))\n",
        "print(\"F1 score: {:.3f}\".format(f1_score(y_test, rf_pred)))\n",
        "print(confusion_matrix(y_test, rf_pred))"
      ],
      "execution_count": null,
      "outputs": [
        {
          "output_type": "stream",
          "name": "stdout",
          "text": [
            "Average cross validation score: 0.904\n",
            "Test accuracy: 0.903\n",
            "F1 score: 0.810\n",
            "[[5203  172]\n",
            " [ 557 1551]]\n"
          ]
        }
      ]
    },
    {
      "cell_type": "code",
      "metadata": {
        "colab": {
          "base_uri": "https://localhost:8080/"
        },
        "id": "dNg0i0xwjn7z",
        "outputId": "199c0cbd-19ac-45ae-d904-c627f34861cb"
      },
      "source": [
        "param_grid = { \"criterion\" : [\"entropy\"], \"min_samples_leaf\" : [1, 10], \"min_samples_split\" : [4, 6], \"n_estimators\": [400, 600]}\n",
        "\n",
        "random_forest = RandomForestClassifier()\n",
        "clf = RandomizedSearchCV(estimator=random_forest, param_distributions=param_grid, n_jobs=-1)\n",
        "clf.fit(X_train, y_train)\n"
      ],
      "execution_count": null,
      "outputs": [
        {
          "output_type": "stream",
          "name": "stderr",
          "text": [
            "/usr/local/lib/python3.7/dist-packages/sklearn/model_selection/_search.py:281: UserWarning: The total space of parameters 8 is smaller than n_iter=10. Running 8 iterations. For exhaustive searches, use GridSearchCV.\n",
            "  % (grid_size, self.n_iter, grid_size), UserWarning)\n"
          ]
        },
        {
          "output_type": "execute_result",
          "data": {
            "text/plain": [
              "RandomizedSearchCV(cv=None, error_score=nan,\n",
              "                   estimator=RandomForestClassifier(bootstrap=True,\n",
              "                                                    ccp_alpha=0.0,\n",
              "                                                    class_weight=None,\n",
              "                                                    criterion='gini',\n",
              "                                                    max_depth=None,\n",
              "                                                    max_features='auto',\n",
              "                                                    max_leaf_nodes=None,\n",
              "                                                    max_samples=None,\n",
              "                                                    min_impurity_decrease=0.0,\n",
              "                                                    min_impurity_split=None,\n",
              "                                                    min_samples_leaf=1,\n",
              "                                                    min_samples_split=2,\n",
              "                                                    min_weight_fraction_leaf=0.0,\n",
              "                                                    n_estimators=100,\n",
              "                                                    n_jobs=None,\n",
              "                                                    oob_score=False,\n",
              "                                                    random_state=None,\n",
              "                                                    verbose=0,\n",
              "                                                    warm_start=False),\n",
              "                   iid='deprecated', n_iter=10, n_jobs=-1,\n",
              "                   param_distributions={'criterion': ['entropy'],\n",
              "                                        'min_samples_leaf': [1, 10],\n",
              "                                        'min_samples_split': [4, 6],\n",
              "                                        'n_estimators': [400, 600]},\n",
              "                   pre_dispatch='2*n_jobs', random_state=None, refit=True,\n",
              "                   return_train_score=False, scoring=None, verbose=0)"
            ]
          },
          "metadata": {},
          "execution_count": 415
        }
      ]
    },
    {
      "cell_type": "code",
      "metadata": {
        "colab": {
          "base_uri": "https://localhost:8080/"
        },
        "id": "_ukAerXLlNSW",
        "outputId": "ee6b5496-dede-439f-af3b-e845866c3139"
      },
      "source": [
        "clf.best_estimator_"
      ],
      "execution_count": null,
      "outputs": [
        {
          "output_type": "execute_result",
          "data": {
            "text/plain": [
              "RandomForestClassifier(bootstrap=True, ccp_alpha=0.0, class_weight=None,\n",
              "                       criterion='entropy', max_depth=None, max_features='auto',\n",
              "                       max_leaf_nodes=None, max_samples=None,\n",
              "                       min_impurity_decrease=0.0, min_impurity_split=None,\n",
              "                       min_samples_leaf=1, min_samples_split=4,\n",
              "                       min_weight_fraction_leaf=0.0, n_estimators=600,\n",
              "                       n_jobs=None, oob_score=False, random_state=None,\n",
              "                       verbose=0, warm_start=False)"
            ]
          },
          "metadata": {},
          "execution_count": 416
        }
      ]
    },
    {
      "cell_type": "markdown",
      "metadata": {
        "id": "riqSqh0ZnqCH"
      },
      "source": [
        "### Percobaan Pertama\n",
        "param_grid = { \"criterion\" : [\"gini\", \"entropy\"], \"min_samples_leaf\" : [1, 4], \"min_samples_split\" : [2, 4], \"n_estimators\": [100, 400]}\n",
        "\n",
        "random_forest = RandomForestClassifier()\n",
        "clf = RandomizedSearchCV(estimator=random_forest, param_distributions=param_grid, n_jobs=-1)\n",
        "clf.fit(X_train, y_train)\n",
        "\n",
        "RandomForestClassifier(bootstrap=True, ccp_alpha=0.0, class_weight=None,\n",
        "                        criterion='entropy', max_depth=None, max_features='auto',\n",
        "                        max_leaf_nodes=None, max_samples=None,\n",
        "                        min_impurity_decrease=0.0, min_impurity_split=None,\n",
        "                        min_samples_leaf=1, min_samples_split=4,\n",
        "                        min_weight_fraction_leaf=0.0, n_estimators=400,\n",
        "                        n_jobs=None, oob_score=False, random_state=None,\n",
        "                        verbose=0, warm_start=False)\n",
        "\n",
        "rf = clf.best_estimator_\n",
        "\n",
        "y_pred = rf.predict(X_test)\n",
        "\n",
        "accuracy = accuracy_score(y_test, y_pred)\n",
        "\n",
        "accuracy\n",
        "\n",
        "Result: 0.9064546304957904"
      ]
    },
    {
      "cell_type": "code",
      "metadata": {
        "id": "EJrS4slmlbBi"
      },
      "source": [
        "rf = clf.best_estimator_"
      ],
      "execution_count": null,
      "outputs": []
    },
    {
      "cell_type": "code",
      "metadata": {
        "id": "irJI5PPYlhVD"
      },
      "source": [
        "y_pred = rf.predict(X_test)"
      ],
      "execution_count": null,
      "outputs": []
    },
    {
      "cell_type": "code",
      "metadata": {
        "id": "-nmXuNrZlvYN"
      },
      "source": [
        "accuracy = accuracy_score(y_test, y_pred)"
      ],
      "execution_count": null,
      "outputs": []
    },
    {
      "cell_type": "code",
      "metadata": {
        "colab": {
          "base_uri": "https://localhost:8080/"
        },
        "id": "6-Do4W4_l8YK",
        "outputId": "16371994-5f8f-4a40-a3bf-faebbcbc9b1f"
      },
      "source": [
        "accuracy"
      ],
      "execution_count": null,
      "outputs": [
        {
          "output_type": "execute_result",
          "data": {
            "text/plain": [
              "0.9052519043164506"
            ]
          },
          "metadata": {},
          "execution_count": 420
        }
      ]
    },
    {
      "cell_type": "markdown",
      "metadata": {
        "id": "1l_9pcKgse1g"
      },
      "source": [
        "Pada percobaan kedua hasilnya adalah 0.9052519043164506, nilai accuracy turun, sehingga parameter yang digunakan adalah criterion='entropy', min_samples_leaf=1, min_samples_split=4, n_estimators=400, dengan hasil 0.9064546304957904.\n",
        "\n",
        "Setelah melakukan tuning, hasilnya meningkat dari 0.904 menjadi 0.9064546304957904, maka model yang terbaik yang saya pilih adalah random forest yang sudah dilakukan hyperparameter tuning"
      ]
    },
    {
      "cell_type": "markdown",
      "metadata": {
        "id": "E5lEEM7azhx3"
      },
      "source": [
        "# Model Evaluation\n",
        "cancel (1) atau tidak cancel (0).\n",
        "\n",
        "TP: actual tidak cancel, predicted tidak cancel (5203)\n",
        "\n",
        "FN: actual tidak cancel, predicted cancel (557)\n",
        "\n",
        "TN: actual cancel, predicted cancel (1551)\n",
        "\n",
        "FP: actual cancel, predicted tidak cancel (172)\n",
        "\n",
        "FP paling berpengaruh karena ketika sebenarnya yang booking hotel itu melakukan cancel, tetapi pihak hotel sudah melakukan persiapan yang utama yaitu banyaknya makanan yang akan di stok, maka pihak hotel akan mengalami kerugian karena menyiapkan makanan tetapi tidak ada tamunya.\n"
      ]
    }
  ]
}